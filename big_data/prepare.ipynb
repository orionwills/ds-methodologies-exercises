{
 "cells": [
  {
   "cell_type": "markdown",
   "metadata": {
    "toc": true
   },
   "source": [
    "<h1>Table of Contents<span class=\"tocSkip\"></span></h1>\n",
    "<div class=\"toc\"><ul class=\"toc-item\"><li><span><a href=\"#Part-1\" data-toc-modified-id=\"Part-1-1\"><span class=\"toc-item-num\">1&nbsp;&nbsp;</span>Part 1</a></span></li><li><span><a href=\"#Part-2\" data-toc-modified-id=\"Part-2-2\"><span class=\"toc-item-num\">2&nbsp;&nbsp;</span>Part 2</a></span></li><li><span><a href=\"#Part-3\" data-toc-modified-id=\"Part-3-3\"><span class=\"toc-item-num\">3&nbsp;&nbsp;</span>Part 3</a></span></li><li><span><a href=\"#Part-4\" data-toc-modified-id=\"Part-4-4\"><span class=\"toc-item-num\">4&nbsp;&nbsp;</span>Part 4</a></span></li></ul></div>"
   ]
  },
  {
   "cell_type": "code",
   "execution_count": 98,
   "metadata": {
    "ExecuteTime": {
     "end_time": "2019-05-17T15:03:17.057012Z",
     "start_time": "2019-05-17T15:03:17.050636Z"
    }
   },
   "outputs": [],
   "source": [
    "import pyspark\n",
    "\n",
    "import pandas as pd\n",
    "from pyspark.sql import SparkSession,\\\n",
    "    DataFrameNaFunctions, DataFrameStatFunctions,\\\n",
    "    functions, types, Window\n",
    "from pyspark.sql import functions as f\n",
    "from pyspark.sql.functions import *\n",
    "from pyspark.sql.functions import format_string, regexp_extract, trim, upper\n",
    "\n",
    "import warnings\n",
    "warnings.filterwarnings(\"ignore\")"
   ]
  },
  {
   "cell_type": "code",
   "execution_count": 2,
   "metadata": {
    "ExecuteTime": {
     "end_time": "2019-05-16T19:32:00.418155Z",
     "start_time": "2019-05-16T19:31:52.298073Z"
    }
   },
   "outputs": [],
   "source": [
    "spark = SparkSession.builder.master(\"local\").appName(\"read\").\\\n",
    "    enableHiveSupport().\\\n",
    "    getOrCreate()"
   ]
  },
  {
   "cell_type": "markdown",
   "metadata": {},
   "source": [
    "## Part 1\n",
    "Read the `case.csv` file from the 311 call data into a Spark DataFrame."
   ]
  },
  {
   "cell_type": "code",
   "execution_count": 3,
   "metadata": {
    "ExecuteTime": {
     "end_time": "2019-05-16T19:34:05.324270Z",
     "start_time": "2019-05-16T19:33:55.885679Z"
    }
   },
   "outputs": [],
   "source": [
    "df = spark.read.csv('sa311/case.csv', sep=',', header=True, inferSchema=True)"
   ]
  },
  {
   "cell_type": "markdown",
   "metadata": {},
   "source": [
    "How old is the latest (in terms of days past SLA) currently open issue? How long has the oldest (in terms of days since opened) currently opened issue been open?"
   ]
  },
  {
   "cell_type": "code",
   "execution_count": 39,
   "metadata": {
    "ExecuteTime": {
     "end_time": "2019-05-16T21:11:15.043793Z",
     "start_time": "2019-05-16T21:11:15.037461Z"
    },
    "scrolled": true
   },
   "outputs": [
    {
     "data": {
      "text/plain": [
       "['case_id',\n",
       " 'case_opened_date',\n",
       " 'case_closed_date',\n",
       " 'SLA_due_date',\n",
       " 'case_late',\n",
       " 'num_days_late',\n",
       " 'case_closed',\n",
       " 'dept_division',\n",
       " 'service_request_type',\n",
       " 'SLA_days',\n",
       " 'case_status',\n",
       " 'source_id',\n",
       " 'request_address',\n",
       " 'council_district']"
      ]
     },
     "execution_count": 39,
     "metadata": {},
     "output_type": "execute_result"
    }
   ],
   "source": [
    "df.columns"
   ]
  },
  {
   "cell_type": "code",
   "execution_count": 45,
   "metadata": {
    "ExecuteTime": {
     "end_time": "2019-05-16T21:17:03.098276Z",
     "start_time": "2019-05-16T21:16:59.808708Z"
    }
   },
   "outputs": [
    {
     "name": "stdout",
     "output_type": "stream",
     "text": [
      "+------------------+\n",
      "|max(num_days_late)|\n",
      "+------------------+\n",
      "|       348.6458333|\n",
      "+------------------+\n",
      "\n"
     ]
    }
   ],
   "source": [
    "df.select('SLA_due_date', 'case_closed', 'num_days_late')\\\n",
    "    .where(df.case_closed == 'NO')\\\n",
    "    .groupby().max('num_days_late').show()"
   ]
  },
  {
   "cell_type": "code",
   "execution_count": 60,
   "metadata": {
    "ExecuteTime": {
     "end_time": "2019-05-16T21:39:48.058236Z",
     "start_time": "2019-05-16T21:39:47.829699Z"
    }
   },
   "outputs": [
    {
     "name": "stdout",
     "output_type": "stream",
     "text": [
      "+-------------------+-----------------------------------+\n",
      "|               date|datediff(current_timestamp(), date)|\n",
      "+-------------------+-----------------------------------+\n",
      "|2018-01-01 00:00:00|                                500|\n",
      "+-------------------+-----------------------------------+\n",
      "only showing top 1 row\n",
      "\n"
     ]
    }
   ],
   "source": [
    "import datetime\n",
    "today = datetime.date.today()\n",
    "\n",
    "df.select('case_opened_date').\\\n",
    "    withColumn('date',\\\n",
    "               to_timestamp(df.case_opened_date, 'M/d/yy')).\\\n",
    "    select(col('date'),\\\n",
    "           datediff(current_timestamp(), col('date'))).show(1)"
   ]
  },
  {
   "cell_type": "markdown",
   "metadata": {},
   "source": [
    "How many Stray Animal cases are there?"
   ]
  },
  {
   "cell_type": "code",
   "execution_count": 70,
   "metadata": {
    "ExecuteTime": {
     "end_time": "2019-05-16T21:44:05.415068Z",
     "start_time": "2019-05-16T21:44:03.280411Z"
    }
   },
   "outputs": [
    {
     "data": {
      "text/plain": [
       "26760"
      ]
     },
     "execution_count": 70,
     "metadata": {},
     "output_type": "execute_result"
    }
   ],
   "source": [
    "df.select('service_request_type')\\\n",
    "    .where(df.service_request_type == 'Stray Animal')\\\n",
    "    .count()"
   ]
  },
  {
   "cell_type": "markdown",
   "metadata": {},
   "source": [
    "How many service requests that are assigned to the Field Operations department (dept_division) are not classified as \"Officer Standby\" request type (service_request_type)?"
   ]
  },
  {
   "cell_type": "code",
   "execution_count": 73,
   "metadata": {
    "ExecuteTime": {
     "end_time": "2019-05-16T21:46:06.944860Z",
     "start_time": "2019-05-16T21:46:04.805969Z"
    }
   },
   "outputs": [
    {
     "data": {
      "text/plain": [
       "113902"
      ]
     },
     "execution_count": 73,
     "metadata": {},
     "output_type": "execute_result"
    }
   ],
   "source": [
    "df.select('dept_division', 'service_request_type')\\\n",
    "    .where(df.dept_division == 'Field Operations')\\\n",
    "    .where(df.service_request_type != 'Officer Standby')\\\n",
    "    .count()"
   ]
  },
  {
   "cell_type": "markdown",
   "metadata": {},
   "source": [
    "Create a new DataFrame without any information related to dates or location."
   ]
  },
  {
   "cell_type": "code",
   "execution_count": 76,
   "metadata": {
    "ExecuteTime": {
     "end_time": "2019-05-16T21:54:32.834133Z",
     "start_time": "2019-05-16T21:54:32.824524Z"
    }
   },
   "outputs": [],
   "source": [
    "no_dates_df = (df.drop('case_opened_date',\n",
    "                       'case_closed_date',\n",
    "                       'SLA_due_date',\n",
    "                       'request_address'))"
   ]
  },
  {
   "cell_type": "markdown",
   "metadata": {},
   "source": [
    "Read `dept.csv` into a Spark DataFrame. Inspect the dept_name column. Replace the missing values with \"other\"."
   ]
  },
  {
   "cell_type": "code",
   "execution_count": 77,
   "metadata": {
    "ExecuteTime": {
     "end_time": "2019-05-17T14:30:36.174485Z",
     "start_time": "2019-05-17T14:30:34.930042Z"
    }
   },
   "outputs": [],
   "source": [
    "df = spark.read.format(\"csv\").\\\n",
    "    option(\"sep\", \",\").\\\n",
    "    option(\"header\", True).\\\n",
    "    option(\"inferSchema\", True).\\\n",
    "    load(\"sa311/dept.csv\")"
   ]
  },
  {
   "cell_type": "code",
   "execution_count": null,
   "metadata": {},
   "outputs": [],
   "source": []
  },
  {
   "cell_type": "code",
   "execution_count": 78,
   "metadata": {
    "ExecuteTime": {
     "end_time": "2019-05-17T14:34:53.046791Z",
     "start_time": "2019-05-17T14:34:52.993941Z"
    }
   },
   "outputs": [
    {
     "data": {
      "text/plain": [
       "DataFrame[dept_division: string, dept_name: string, standardized_dept_name: string, dept_subject_to_SLA: string]"
      ]
     },
     "execution_count": 78,
     "metadata": {},
     "output_type": "execute_result"
    }
   ],
   "source": [
    "df.fillna('other', 'dept_name')"
   ]
  },
  {
   "cell_type": "markdown",
   "metadata": {},
   "source": [
    "## Part 2"
   ]
  },
  {
   "cell_type": "markdown",
   "metadata": {},
   "source": [
    "Convert the `council_district` column to a string column."
   ]
  },
  {
   "cell_type": "code",
   "execution_count": 87,
   "metadata": {
    "ExecuteTime": {
     "end_time": "2019-05-17T14:44:26.218267Z",
     "start_time": "2019-05-17T14:44:19.372633Z"
    }
   },
   "outputs": [],
   "source": [
    "df = spark.read.format(\"csv\").\\\n",
    "    option(\"sep\", \",\").\\\n",
    "    option(\"header\", True).\\\n",
    "    option(\"inferSchema\", True).\\\n",
    "    load(\"sa311/case.csv\")"
   ]
  },
  {
   "cell_type": "code",
   "execution_count": 88,
   "metadata": {
    "ExecuteTime": {
     "end_time": "2019-05-17T14:44:26.497611Z",
     "start_time": "2019-05-17T14:44:26.221063Z"
    }
   },
   "outputs": [
    {
     "name": "stdout",
     "output_type": "stream",
     "text": [
      "+----------------+----------------------+\n",
      "|council_district|council_district_fixed|\n",
      "+----------------+----------------------+\n",
      "|               5|            0000000005|\n",
      "|               3|            0000000003|\n",
      "|               3|            0000000003|\n",
      "|               3|            0000000003|\n",
      "|               7|            0000000007|\n",
      "+----------------+----------------------+\n",
      "only showing top 5 rows\n",
      "\n"
     ]
    }
   ],
   "source": [
    "df.select('council_district', format_string('%010d', 'council_district').\\\n",
    "         alias('council_district_fixed')).show(5)"
   ]
  },
  {
   "cell_type": "markdown",
   "metadata": {},
   "source": [
    "Extract the year from the `case_closed_date` column."
   ]
  },
  {
   "cell_type": "code",
   "execution_count": 92,
   "metadata": {
    "ExecuteTime": {
     "end_time": "2019-05-17T14:59:49.321804Z",
     "start_time": "2019-05-17T14:59:49.187200Z"
    }
   },
   "outputs": [
    {
     "name": "stdout",
     "output_type": "stream",
     "text": [
      "+----------------+\n",
      "|case_closed_date|\n",
      "+----------------+\n",
      "|    1/1/18 12:29|\n",
      "+----------------+\n",
      "only showing top 1 row\n",
      "\n"
     ]
    }
   ],
   "source": [
    "df.select('case_closed_date').show(1)"
   ]
  },
  {
   "cell_type": "code",
   "execution_count": 97,
   "metadata": {
    "ExecuteTime": {
     "end_time": "2019-05-17T15:02:33.594512Z",
     "start_time": "2019-05-17T15:02:33.480930Z"
    }
   },
   "outputs": [
    {
     "name": "stdout",
     "output_type": "stream",
     "text": [
      "+----------------+----+\n",
      "|case_closed_date|year|\n",
      "+----------------+----+\n",
      "|    1/1/18 12:29|  18|\n",
      "|     1/3/18 8:11|  18|\n",
      "|     1/2/18 7:57|  18|\n",
      "|     1/2/18 8:13|  18|\n",
      "|    1/1/18 13:29|  18|\n",
      "+----------------+----+\n",
      "only showing top 5 rows\n",
      "\n"
     ]
    }
   ],
   "source": [
    "df.select('case_closed_date', regexp_extract(\\\n",
    "                                             df.case_closed_date.cast('string'),\\\n",
    "                                             '\\d+/\\d+/(\\d+)', 1).alias('year')).show(5)"
   ]
  },
  {
   "cell_type": "markdown",
   "metadata": {},
   "source": [
    "Convert `num_days_late` from days to hours in new columns `num_hours_late`."
   ]
  },
  {
   "cell_type": "code",
   "execution_count": 102,
   "metadata": {
    "ExecuteTime": {
     "end_time": "2019-05-17T15:06:49.553240Z",
     "start_time": "2019-05-17T15:06:49.326322Z"
    }
   },
   "outputs": [
    {
     "name": "stdout",
     "output_type": "stream",
     "text": [
      "+-------------------+------------------------------+\n",
      "|      num_days_late|round((num_days_late * 24), 2)|\n",
      "+-------------------+------------------------------+\n",
      "| -998.5087616000001|                     -23964.21|\n",
      "|-2.0126041669999997|                         -48.3|\n",
      "|       -3.022337963|                        -72.54|\n",
      "|       -15.01148148|                       -360.28|\n",
      "|0.37216435200000003|                          8.93|\n",
      "+-------------------+------------------------------+\n",
      "only showing top 5 rows\n",
      "\n"
     ]
    }
   ],
   "source": [
    "df.select('num_days_late', round(df.num_days_late  * 24, 2)).alias('num_hours_late').show(5)"
   ]
  },
  {
   "cell_type": "markdown",
   "metadata": {},
   "source": [
    "Convert the `case_late` column to a boolean column."
   ]
  },
  {
   "cell_type": "code",
   "execution_count": 106,
   "metadata": {
    "ExecuteTime": {
     "end_time": "2019-05-17T15:10:24.147932Z",
     "start_time": "2019-05-17T15:10:23.939982Z"
    }
   },
   "outputs": [
    {
     "name": "stdout",
     "output_type": "stream",
     "text": [
      "+---------+-----------------+\n",
      "|case_late|case_late_boolean|\n",
      "+---------+-----------------+\n",
      "|       NO|            false|\n",
      "|       NO|            false|\n",
      "|       NO|            false|\n",
      "|       NO|            false|\n",
      "|      YES|             true|\n",
      "+---------+-----------------+\n",
      "only showing top 5 rows\n",
      "\n"
     ]
    }
   ],
   "source": [
    "df.select('case_late', (df['case_late'] == 'YES').alias('case_late_boolean')).show(5)"
   ]
  },
  {
   "cell_type": "markdown",
   "metadata": {},
   "source": [
    "Convert the `SLA_days` columns to a double column.\n",
    "Pull it all together"
   ]
  },
  {
   "cell_type": "code",
   "execution_count": 111,
   "metadata": {
    "ExecuteTime": {
     "end_time": "2019-05-17T15:14:24.260711Z",
     "start_time": "2019-05-17T15:14:24.111681Z"
    }
   },
   "outputs": [
    {
     "name": "stdout",
     "output_type": "stream",
     "text": [
      "+------------------+------------------+\n",
      "|          SLA_days|          SLA_days|\n",
      "+------------------+------------------+\n",
      "|             999.0|             999.0|\n",
      "|       4.322222222|       4.322222222|\n",
      "|       4.320729167|       4.320729167|\n",
      "|       16.29188657|       16.29188657|\n",
      "|             0.125|             0.125|\n",
      "|       30.08446759|       30.08446759|\n",
      "|       16.06429398|       16.06429398|\n",
      "|16.063796300000003|16.063796300000003|\n",
      "|       16.06333333|       16.06333333|\n",
      "|        16.0628588|        16.0628588|\n",
      "|       16.06237269|       16.06237269|\n",
      "|       16.06104167|       16.06104167|\n",
      "|       16.06059028|       16.06059028|\n",
      "|       16.06011574|       16.06011574|\n",
      "|       16.05953704|       16.05953704|\n",
      "|       16.05907407|       16.05907407|\n",
      "|       16.05864583|       16.05864583|\n",
      "|       16.05819444|       16.05819444|\n",
      "|       16.05775463|       16.05775463|\n",
      "|       16.05733796|       16.05733796|\n",
      "+------------------+------------------+\n",
      "only showing top 20 rows\n",
      "\n"
     ]
    }
   ],
   "source": [
    "df.select('SLA_days', df.SLA_days.cast('double')).show()"
   ]
  },
  {
   "cell_type": "markdown",
   "metadata": {},
   "source": [
    "## Part 3"
   ]
  },
  {
   "cell_type": "markdown",
   "metadata": {},
   "source": [
    "Create a DataFrame with all combinations of `council_district` and `service_request_type` (regardless of whether the combination is observed in the data)."
   ]
  },
  {
   "cell_type": "code",
   "execution_count": 115,
   "metadata": {
    "ExecuteTime": {
     "end_time": "2019-05-17T15:48:22.642555Z",
     "start_time": "2019-05-17T15:48:02.733136Z"
    }
   },
   "outputs": [
    {
     "data": {
      "text/html": [
       "<div>\n",
       "<style scoped>\n",
       "    .dataframe tbody tr th:only-of-type {\n",
       "        vertical-align: middle;\n",
       "    }\n",
       "\n",
       "    .dataframe tbody tr th {\n",
       "        vertical-align: top;\n",
       "    }\n",
       "\n",
       "    .dataframe thead th {\n",
       "        text-align: right;\n",
       "    }\n",
       "</style>\n",
       "<table border=\"1\" class=\"dataframe\">\n",
       "  <thead>\n",
       "    <tr style=\"text-align: right;\">\n",
       "      <th></th>\n",
       "      <th>council_district</th>\n",
       "      <th>\"Vacant Lot-City (12\"\")\"</th>\n",
       "      <th>\"Vacant Lot-City (48\"\")\"</th>\n",
       "      <th>\"Vacant Lot-County (12\"\")\"</th>\n",
       "      <th>\"Vacant Lot-County (48\"\")\"</th>\n",
       "      <th>\"Vacant Lot-Private (12\"\")\"</th>\n",
       "      <th>\"Vacant Lot-Private (48\"\")\"</th>\n",
       "      <th>\"Vacant Lot-State (12\"\")\"</th>\n",
       "      <th>\"Vacant Lot-State (48\"\")\"</th>\n",
       "      <th>1st Call Bagged Leaves</th>\n",
       "      <th>...</th>\n",
       "      <th>Zoning: District Requirement</th>\n",
       "      <th>Zoning: Illumination</th>\n",
       "      <th>Zoning: Junk Yards</th>\n",
       "      <th>Zoning: Mobile Homes</th>\n",
       "      <th>Zoning: Multi-Family In Single</th>\n",
       "      <th>Zoning: Outside Storage</th>\n",
       "      <th>Zoning: Oversized Vehicles</th>\n",
       "      <th>Zoning: Recycle Yard</th>\n",
       "      <th>Zoning: Setbacks</th>\n",
       "      <th>Zoning: Visual Obstruction</th>\n",
       "    </tr>\n",
       "  </thead>\n",
       "  <tbody>\n",
       "    <tr>\n",
       "      <th>0</th>\n",
       "      <td>1</td>\n",
       "      <td>48</td>\n",
       "      <td>15</td>\n",
       "      <td>2.0</td>\n",
       "      <td>3.0</td>\n",
       "      <td>841</td>\n",
       "      <td>67</td>\n",
       "      <td>73.0</td>\n",
       "      <td>5.0</td>\n",
       "      <td>594</td>\n",
       "      <td>...</td>\n",
       "      <td>362</td>\n",
       "      <td>32</td>\n",
       "      <td>5.0</td>\n",
       "      <td>20</td>\n",
       "      <td>142</td>\n",
       "      <td>51</td>\n",
       "      <td>167</td>\n",
       "      <td>12.0</td>\n",
       "      <td>141</td>\n",
       "      <td>276</td>\n",
       "    </tr>\n",
       "    <tr>\n",
       "      <th>1</th>\n",
       "      <td>6</td>\n",
       "      <td>58</td>\n",
       "      <td>7</td>\n",
       "      <td>4.0</td>\n",
       "      <td>1.0</td>\n",
       "      <td>801</td>\n",
       "      <td>9</td>\n",
       "      <td>2.0</td>\n",
       "      <td>1.0</td>\n",
       "      <td>883</td>\n",
       "      <td>...</td>\n",
       "      <td>324</td>\n",
       "      <td>9</td>\n",
       "      <td>20.0</td>\n",
       "      <td>15</td>\n",
       "      <td>41</td>\n",
       "      <td>47</td>\n",
       "      <td>170</td>\n",
       "      <td>39.0</td>\n",
       "      <td>60</td>\n",
       "      <td>153</td>\n",
       "    </tr>\n",
       "    <tr>\n",
       "      <th>2</th>\n",
       "      <td>3</td>\n",
       "      <td>100</td>\n",
       "      <td>74</td>\n",
       "      <td>5.0</td>\n",
       "      <td>2.0</td>\n",
       "      <td>824</td>\n",
       "      <td>151</td>\n",
       "      <td>4.0</td>\n",
       "      <td>6.0</td>\n",
       "      <td>203</td>\n",
       "      <td>...</td>\n",
       "      <td>386</td>\n",
       "      <td>22</td>\n",
       "      <td>23.0</td>\n",
       "      <td>65</td>\n",
       "      <td>114</td>\n",
       "      <td>40</td>\n",
       "      <td>233</td>\n",
       "      <td>23.0</td>\n",
       "      <td>89</td>\n",
       "      <td>240</td>\n",
       "    </tr>\n",
       "    <tr>\n",
       "      <th>3</th>\n",
       "      <td>5</td>\n",
       "      <td>98</td>\n",
       "      <td>97</td>\n",
       "      <td>4.0</td>\n",
       "      <td>10.0</td>\n",
       "      <td>619</td>\n",
       "      <td>250</td>\n",
       "      <td>1.0</td>\n",
       "      <td>2.0</td>\n",
       "      <td>157</td>\n",
       "      <td>...</td>\n",
       "      <td>181</td>\n",
       "      <td>13</td>\n",
       "      <td>48.0</td>\n",
       "      <td>39</td>\n",
       "      <td>134</td>\n",
       "      <td>33</td>\n",
       "      <td>122</td>\n",
       "      <td>84.0</td>\n",
       "      <td>109</td>\n",
       "      <td>227</td>\n",
       "    </tr>\n",
       "    <tr>\n",
       "      <th>4</th>\n",
       "      <td>9</td>\n",
       "      <td>2</td>\n",
       "      <td>1</td>\n",
       "      <td>NaN</td>\n",
       "      <td>NaN</td>\n",
       "      <td>90</td>\n",
       "      <td>1</td>\n",
       "      <td>NaN</td>\n",
       "      <td>NaN</td>\n",
       "      <td>1251</td>\n",
       "      <td>...</td>\n",
       "      <td>59</td>\n",
       "      <td>13</td>\n",
       "      <td>NaN</td>\n",
       "      <td>4</td>\n",
       "      <td>21</td>\n",
       "      <td>11</td>\n",
       "      <td>86</td>\n",
       "      <td>NaN</td>\n",
       "      <td>53</td>\n",
       "      <td>129</td>\n",
       "    </tr>\n",
       "  </tbody>\n",
       "</table>\n",
       "<p>5 rows × 336 columns</p>\n",
       "</div>"
      ],
      "text/plain": [
       "   council_district  \"Vacant Lot-City (12\"\")\"  \"Vacant Lot-City (48\"\")\"  \\\n",
       "0                 1                        48                        15   \n",
       "1                 6                        58                         7   \n",
       "2                 3                       100                        74   \n",
       "3                 5                        98                        97   \n",
       "4                 9                         2                         1   \n",
       "\n",
       "   \"Vacant Lot-County (12\"\")\"  \"Vacant Lot-County (48\"\")\"  \\\n",
       "0                         2.0                         3.0   \n",
       "1                         4.0                         1.0   \n",
       "2                         5.0                         2.0   \n",
       "3                         4.0                        10.0   \n",
       "4                         NaN                         NaN   \n",
       "\n",
       "   \"Vacant Lot-Private (12\"\")\"  \"Vacant Lot-Private (48\"\")\"  \\\n",
       "0                          841                           67   \n",
       "1                          801                            9   \n",
       "2                          824                          151   \n",
       "3                          619                          250   \n",
       "4                           90                            1   \n",
       "\n",
       "   \"Vacant Lot-State (12\"\")\"  \"Vacant Lot-State (48\"\")\"  \\\n",
       "0                       73.0                        5.0   \n",
       "1                        2.0                        1.0   \n",
       "2                        4.0                        6.0   \n",
       "3                        1.0                        2.0   \n",
       "4                        NaN                        NaN   \n",
       "\n",
       "   1st Call Bagged Leaves             ...              \\\n",
       "0                     594             ...               \n",
       "1                     883             ...               \n",
       "2                     203             ...               \n",
       "3                     157             ...               \n",
       "4                    1251             ...               \n",
       "\n",
       "   Zoning: District Requirement  Zoning: Illumination  Zoning: Junk Yards  \\\n",
       "0                           362                    32                 5.0   \n",
       "1                           324                     9                20.0   \n",
       "2                           386                    22                23.0   \n",
       "3                           181                    13                48.0   \n",
       "4                            59                    13                 NaN   \n",
       "\n",
       "  Zoning: Mobile Homes  Zoning: Multi-Family In Single  \\\n",
       "0                   20                             142   \n",
       "1                   15                              41   \n",
       "2                   65                             114   \n",
       "3                   39                             134   \n",
       "4                    4                              21   \n",
       "\n",
       "   Zoning: Outside Storage  Zoning: Oversized Vehicles  Zoning: Recycle Yard  \\\n",
       "0                       51                         167                  12.0   \n",
       "1                       47                         170                  39.0   \n",
       "2                       40                         233                  23.0   \n",
       "3                       33                         122                  84.0   \n",
       "4                       11                          86                   NaN   \n",
       "\n",
       "   Zoning: Setbacks  Zoning: Visual Obstruction  \n",
       "0               141                         276  \n",
       "1                60                         153  \n",
       "2                89                         240  \n",
       "3               109                         227  \n",
       "4                53                         129  \n",
       "\n",
       "[5 rows x 336 columns]"
      ]
     },
     "execution_count": 115,
     "metadata": {},
     "output_type": "execute_result"
    }
   ],
   "source": [
    "df.groupby('council_district').pivot('service_request_type').count().limit(5).toPandas()"
   ]
  },
  {
   "cell_type": "markdown",
   "metadata": {},
   "source": [
    "Join the case data with the source and department data."
   ]
  },
  {
   "cell_type": "code",
   "execution_count": 116,
   "metadata": {
    "ExecuteTime": {
     "end_time": "2019-05-17T15:52:44.526097Z",
     "start_time": "2019-05-17T15:52:40.774687Z"
    }
   },
   "outputs": [],
   "source": [
    "source_df = spark.read.csv('sa311/source.csv', header=True, inferSchema=True)\n",
    "case_df = spark.read.csv('sa311/case.csv', header=True, inferSchema=True)\n",
    "dept_df = spark.read.csv('sa311/dept.csv', header=True, inferSchema=True)"
   ]
  },
  {
   "cell_type": "code",
   "execution_count": 119,
   "metadata": {
    "ExecuteTime": {
     "end_time": "2019-05-17T15:55:49.516195Z",
     "start_time": "2019-05-17T15:55:49.204244Z"
    }
   },
   "outputs": [],
   "source": [
    "full_df = (df.join(source_df, df.source_id == source_df.source_id, 'left')\\\n",
    "    .join(dept_df, df.dept_division == dept_df.dept_division, 'left'))\\\n",
    "    .limit(10)\\\n",
    "    .toPandas()"
   ]
  },
  {
   "cell_type": "markdown",
   "metadata": {},
   "source": [
    "Are there any cases that do not have a request source?"
   ]
  },
  {
   "cell_type": "markdown",
   "metadata": {},
   "source": [
    "None"
   ]
  },
  {
   "cell_type": "code",
   "execution_count": 123,
   "metadata": {
    "ExecuteTime": {
     "end_time": "2019-05-17T15:57:33.590181Z",
     "start_time": "2019-05-17T15:57:28.979968Z"
    }
   },
   "outputs": [
    {
     "name": "stdout",
     "output_type": "stream",
     "text": [
      "+-------+----------------+----------------+------------+---------+-------------+-----------+-------------+--------------------+--------+-----------+---------+---------------+----------------+---------+---------------+-------------+---------+----------------------+-------------------+\n",
      "|case_id|case_opened_date|case_closed_date|SLA_due_date|case_late|num_days_late|case_closed|dept_division|service_request_type|SLA_days|case_status|source_id|request_address|council_district|source_id|source_username|dept_division|dept_name|standardized_dept_name|dept_subject_to_SLA|\n",
      "+-------+----------------+----------------+------------+---------+-------------+-----------+-------------+--------------------+--------+-----------+---------+---------------+----------------+---------+---------------+-------------+---------+----------------------+-------------------+\n",
      "+-------+----------------+----------------+------------+---------+-------------+-----------+-------------+--------------------+--------+-----------+---------+---------------+----------------+---------+---------------+-------------+---------+----------------------+-------------------+\n",
      "\n"
     ]
    }
   ],
   "source": [
    "(df.join(source_df, df.source_id == source_df.source_id, 'left')\\\n",
    "    .join(dept_df, df.dept_division == dept_df.dept_division, 'left')).where(f.isnull(df.source_id)).show()"
   ]
  },
  {
   "cell_type": "markdown",
   "metadata": {},
   "source": [
    "## Part 4"
   ]
  },
  {
   "cell_type": "markdown",
   "metadata": {},
   "source": [
    "Who are the top 10 service request types in terms of number of requests?"
   ]
  },
  {
   "cell_type": "code",
   "execution_count": 126,
   "metadata": {
    "ExecuteTime": {
     "end_time": "2019-05-17T15:59:55.446747Z",
     "start_time": "2019-05-17T15:59:55.414055Z"
    }
   },
   "outputs": [],
   "source": [
    "full = (df.join(source_df, \n",
    "         df.source_id == source_df.source_id, \n",
    "         'left')\n",
    "        .join(dept_df, \n",
    "       df.dept_division == dept_df.dept_division, \n",
    "       'left'))"
   ]
  },
  {
   "cell_type": "code",
   "execution_count": 127,
   "metadata": {
    "ExecuteTime": {
     "end_time": "2019-05-17T16:00:09.060124Z",
     "start_time": "2019-05-17T16:00:04.302967Z"
    },
    "scrolled": false
   },
   "outputs": [
    {
     "name": "stdout",
     "output_type": "stream",
     "text": [
      "+--------------------------------+-----+\n",
      "|service_request_type            |count|\n",
      "+--------------------------------+-----+\n",
      "|No Pickup                       |89210|\n",
      "|Overgrown Yard/Trash            |66403|\n",
      "|Bandit Signs                    |32968|\n",
      "|Damaged Cart                    |31163|\n",
      "|Front Or Side Yard Parking      |28920|\n",
      "|Stray Animal                    |27361|\n",
      "|Aggressive Animal(Non-Critical) |25492|\n",
      "|Cart Exchange Request           |22608|\n",
      "|Junk Vehicle On Private Property|21649|\n",
      "|Pot Hole Repair                 |20827|\n",
      "+--------------------------------+-----+\n",
      "only showing top 10 rows\n",
      "\n"
     ]
    }
   ],
   "source": [
    "full.groupBy(df.service_request_type).count().sort('count', ascending=False).show(10, truncate=False)"
   ]
  },
  {
   "cell_type": "markdown",
   "metadata": {},
   "source": [
    "Who are the top 10 service request types in terms of average days late?"
   ]
  },
  {
   "cell_type": "code",
   "execution_count": 129,
   "metadata": {
    "ExecuteTime": {
     "end_time": "2019-05-17T16:15:51.129863Z",
     "start_time": "2019-05-17T16:15:45.231208Z"
    }
   },
   "outputs": [
    {
     "name": "stdout",
     "output_type": "stream",
     "text": [
      "+--------------------------------------+------------------+\n",
      "|service_request_type                  |avg(num_days_late)|\n",
      "+--------------------------------------+------------------+\n",
      "|Zoning: Junk Yards                    |175.95636210420932|\n",
      "|Labeling for Used Mattress            |162.43032902285717|\n",
      "|Record Keeping of Used Mattresses     |153.99724039428568|\n",
      "|Signage Requied for Sale of Used Mattr|151.63868055333333|\n",
      "|Storage of Used Mattress              |142.112556415     |\n",
      "|Zoning: Recycle Yard                  |135.9285161247979 |\n",
      "|Donation Container Enforcement        |131.75610506358706|\n",
      "|License Requied Used Mattress Sales   |128.79828704142858|\n",
      "|Traffic Signal Graffiti               |101.79846062200002|\n",
      "|Complaint                             |72.87050230311685 |\n",
      "+--------------------------------------+------------------+\n",
      "only showing top 10 rows\n",
      "\n"
     ]
    }
   ],
   "source": [
    "full.select(df.service_request_type,\\\n",
    "            df.num_days_late)\\\n",
    "    .groupBy(df.service_request_type)\\\n",
    "    .avg('num_days_late')\\\n",
    "    .sort('avg(num_days_late)', ascending=False)\\\n",
    "    .show(10, truncate=False)"
   ]
  },
  {
   "cell_type": "markdown",
   "metadata": {},
   "source": [
    "Does number of days late depend on department?"
   ]
  },
  {
   "cell_type": "code",
   "execution_count": 130,
   "metadata": {
    "ExecuteTime": {
     "end_time": "2019-05-17T16:16:55.946638Z",
     "start_time": "2019-05-17T16:16:51.450136Z"
    }
   },
   "outputs": [
    {
     "name": "stdout",
     "output_type": "stream",
     "text": [
      "+--------------------+-------------------+\n",
      "|           dept_name| avg(num_days_late)|\n",
      "+--------------------+-------------------+\n",
      "|Animal Care Services| -226.5178394055038|\n",
      "|                null|  135.9285161247979|\n",
      "|Solid Waste Manag...|-2.2000575136721308|\n",
      "|Development Services| 13.433724555869683|\n",
      "|Trans & Cap Impro...| -20.61283735405259|\n",
      "|    Customer Service| 59.737091496300735|\n",
      "|        Metro Health| -4.911766979607019|\n",
      "|Parks and Recreation| -5.251521960055141|\n",
      "|Code Enforcement ...| -38.70133068329481|\n",
      "|        City Council|               null|\n",
      "+--------------------+-------------------+\n",
      "\n"
     ]
    }
   ],
   "source": [
    "full.select(full.dept_name, full.num_days_late)\\\n",
    "    .groupBy('dept_name')\\\n",
    "    .avg('num_days_late')\\\n",
    "    .show(10)"
   ]
  },
  {
   "cell_type": "markdown",
   "metadata": {},
   "source": [
    "How do number of days late depend on department division and request type?"
   ]
  }
 ],
 "metadata": {
  "kernelspec": {
   "display_name": "Python 3",
   "language": "python",
   "name": "python3"
  },
  "language_info": {
   "codemirror_mode": {
    "name": "ipython",
    "version": 3
   },
   "file_extension": ".py",
   "mimetype": "text/x-python",
   "name": "python",
   "nbconvert_exporter": "python",
   "pygments_lexer": "ipython3",
   "version": "3.7.1"
  },
  "toc": {
   "base_numbering": 1,
   "nav_menu": {},
   "number_sections": true,
   "sideBar": false,
   "skip_h1_title": false,
   "title_cell": "Table of Contents",
   "title_sidebar": "Contents",
   "toc_cell": true,
   "toc_position": {
    "height": "140px",
    "left": "996.641px",
    "top": "134px",
    "width": "165px"
   },
   "toc_section_display": true,
   "toc_window_display": true
  }
 },
 "nbformat": 4,
 "nbformat_minor": 2
}
