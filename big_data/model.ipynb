{
 "cells": [
  {
   "cell_type": "markdown",
   "metadata": {
    "toc": true
   },
   "source": [
    "<h1>Table of Contents<span class=\"tocSkip\"></span></h1>\n",
    "<div class=\"toc\"><ul class=\"toc-item\"><li><span><a href=\"#Preparation\" data-toc-modified-id=\"Preparation-1\"><span class=\"toc-item-num\">1&nbsp;&nbsp;</span>Preparation</a></span></li></ul></div>"
   ]
  },
  {
   "cell_type": "code",
   "execution_count": 31,
   "metadata": {
    "ExecuteTime": {
     "end_time": "2019-05-17T19:12:31.965177Z",
     "start_time": "2019-05-17T19:12:31.942101Z"
    }
   },
   "outputs": [],
   "source": [
    "%matplotlib inline\n",
    "import pyspark\n",
    "import pyspark.ml\n",
    "from pyspark.sql.functions import *\n",
    "from pyspark.ml.feature import RFormula\n",
    "from pyspark.ml.classification import LogisticRegression\n",
    "from pyspark.sql import SparkSession, DataFrame, Column, Row, GroupedData, \\\n",
    "    DataFrameNaFunctions, DataFrameStatFunctions, functions, types, Window\n",
    "from pyspark.sql import functions as f\n",
    "\n",
    "spark = pyspark.sql.SparkSession.builder.getOrCreate()"
   ]
  },
  {
   "cell_type": "markdown",
   "metadata": {},
   "source": [
    "## Preparation"
   ]
  },
  {
   "cell_type": "markdown",
   "metadata": {},
   "source": [
    "Use the `.randomSplit` method to split the 311 data into training and test sets."
   ]
  },
  {
   "cell_type": "markdown",
   "metadata": {},
   "source": [
    "Read in the csv that has been setup"
   ]
  },
  {
   "cell_type": "code",
   "execution_count": 80,
   "metadata": {
    "ExecuteTime": {
     "end_time": "2019-05-17T19:23:22.712341Z",
     "start_time": "2019-05-17T19:23:20.658354Z"
    }
   },
   "outputs": [],
   "source": [
    "df = spark.read.csv('sa311/joined_df.csv/', header=True, inferSchema=True)"
   ]
  },
  {
   "cell_type": "markdown",
   "metadata": {},
   "source": [
    "Split into 75/25 train/test"
   ]
  },
  {
   "cell_type": "code",
   "execution_count": 81,
   "metadata": {
    "ExecuteTime": {
     "end_time": "2019-05-17T19:23:22.757374Z",
     "start_time": "2019-05-17T19:23:22.715576Z"
    }
   },
   "outputs": [],
   "source": [
    "train, test = df.randomSplit([3.0, 1.0], 123)"
   ]
  },
  {
   "cell_type": "markdown",
   "metadata": {},
   "source": [
    "Create a classification model to predict whether a case will be late or not (i.e. predict `case_late`). Experiment with different combinations of features and different classification algorithms."
   ]
  },
  {
   "cell_type": "markdown",
   "metadata": {},
   "source": [
    "Create a new column with total amount of days that case was open."
   ]
  },
  {
   "cell_type": "code",
   "execution_count": 82,
   "metadata": {
    "ExecuteTime": {
     "end_time": "2019-05-17T19:23:22.775503Z",
     "start_time": "2019-05-17T19:23:22.760093Z"
    }
   },
   "outputs": [],
   "source": [
    "df = df.withColumn('case_days_open', f.datediff('case_closed_date', 'case_opened_date'))"
   ]
  },
  {
   "cell_type": "markdown",
   "metadata": {},
   "source": [
    "Drop columns that appear to be insignificant."
   ]
  },
  {
   "cell_type": "code",
   "execution_count": 83,
   "metadata": {
    "ExecuteTime": {
     "end_time": "2019-05-17T19:23:22.789295Z",
     "start_time": "2019-05-17T19:23:22.778519Z"
    }
   },
   "outputs": [],
   "source": [
    "df = df.drop('request_address',\\\n",
    "             'source_username',\\\n",
    "             'case_id',\\\n",
    "             'source_id',\\\n",
    "             'case_closed_date',\\\n",
    "             'case_opened_date',\\\n",
    "             'dept_subject_to_SLA',\n",
    "             'SLA_due_date',\n",
    "             'num_days_late')"
   ]
  },
  {
   "cell_type": "code",
   "execution_count": 84,
   "metadata": {
    "ExecuteTime": {
     "end_time": "2019-05-17T19:23:22.941103Z",
     "start_time": "2019-05-17T19:23:22.792388Z"
    }
   },
   "outputs": [
    {
     "name": "stdout",
     "output_type": "stream",
     "text": [
      "+----------------+---------+-----------+--------------------+------------------+-----------+----------------+--------------------+----------------------+--------------+\n",
      "|   dept_division|case_late|case_closed|service_request_type|          SLA_days|case_status|council_district|           dept_name|standardized_dept_name|case_days_open|\n",
      "+----------------+---------+-----------+--------------------+------------------+-----------+----------------+--------------------+----------------------+--------------+\n",
      "|Field Operations|       NO|        YES|        Stray Animal|             999.0|     Closed|               5|Animal Care Services|  Animal Care Services|          null|\n",
      "|     Storm Water|       NO|        YES|Removal Of Obstru...|       4.322222222|     Closed|               3|Trans & Cap Impro...|  Trans & Cap Impro...|          null|\n",
      "|     Storm Water|       NO|        YES|Removal Of Obstru...|       4.320729167|     Closed|               3|Trans & Cap Impro...|  Trans & Cap Impro...|          null|\n",
      "|Code Enforcement|       NO|        YES|Front Or Side Yar...|       16.29188657|     Closed|               3|Code Enforcement ...|  DSD/Code Enforcement|          null|\n",
      "|Field Operations|      YES|        YES|Animal Cruelty(Cr...|             0.125|     Closed|               7|Animal Care Services|  Animal Care Services|          null|\n",
      "|         Signals|       NO|        YES|Traffic Signal Op...|       30.08446759|     Closed|               7|Trans & Cap Impro...|  Trans & Cap Impro...|          null|\n",
      "|Code Enforcement|       NO|        YES|Front Or Side Yar...|       16.06429398|     Closed|               4|Code Enforcement ...|  DSD/Code Enforcement|          null|\n",
      "|Code Enforcement|       NO|        YES|Front Or Side Yar...|16.063796300000003|     Closed|               4|Code Enforcement ...|  DSD/Code Enforcement|          null|\n",
      "|Code Enforcement|       NO|        YES|Right Of Way/Side...|       16.06333333|     Closed|               4|Code Enforcement ...|  DSD/Code Enforcement|          null|\n",
      "|Code Enforcement|       NO|        YES|Front Or Side Yar...|        16.0628588|     Closed|               4|Code Enforcement ...|  DSD/Code Enforcement|          null|\n",
      "+----------------+---------+-----------+--------------------+------------------+-----------+----------------+--------------------+----------------------+--------------+\n",
      "only showing top 10 rows\n",
      "\n"
     ]
    }
   ],
   "source": [
    "df.show(10)"
   ]
  },
  {
   "cell_type": "markdown",
   "metadata": {},
   "source": [
    "Rounding SLA_days down to 2 decimals, because reasons."
   ]
  },
  {
   "cell_type": "code",
   "execution_count": 85,
   "metadata": {
    "ExecuteTime": {
     "end_time": "2019-05-17T19:23:25.706090Z",
     "start_time": "2019-05-17T19:23:25.693415Z"
    }
   },
   "outputs": [],
   "source": [
    "df = df.withColumn('SLA_days', f.round('SLA_days', 2))"
   ]
  },
  {
   "cell_type": "code",
   "execution_count": 87,
   "metadata": {
    "ExecuteTime": {
     "end_time": "2019-05-17T19:49:12.166033Z",
     "start_time": "2019-05-17T19:49:11.893239Z"
    }
   },
   "outputs": [
    {
     "name": "stdout",
     "output_type": "stream",
     "text": [
      "+----------------+---------+-----------+--------------------+--------+-----------+----------------+--------------------+----------------------+--------------+\n",
      "|   dept_division|case_late|case_closed|service_request_type|SLA_days|case_status|council_district|           dept_name|standardized_dept_name|case_days_open|\n",
      "+----------------+---------+-----------+--------------------+--------+-----------+----------------+--------------------+----------------------+--------------+\n",
      "|Field Operations|       NO|        YES|        Stray Animal|   999.0|     Closed|               5|Animal Care Services|  Animal Care Services|          null|\n",
      "|     Storm Water|       NO|        YES|Removal Of Obstru...|    4.32|     Closed|               3|Trans & Cap Impro...|  Trans & Cap Impro...|          null|\n",
      "|     Storm Water|       NO|        YES|Removal Of Obstru...|    4.32|     Closed|               3|Trans & Cap Impro...|  Trans & Cap Impro...|          null|\n",
      "|Code Enforcement|       NO|        YES|Front Or Side Yar...|   16.29|     Closed|               3|Code Enforcement ...|  DSD/Code Enforcement|          null|\n",
      "|Field Operations|      YES|        YES|Animal Cruelty(Cr...|    0.13|     Closed|               7|Animal Care Services|  Animal Care Services|          null|\n",
      "|         Signals|       NO|        YES|Traffic Signal Op...|   30.08|     Closed|               7|Trans & Cap Impro...|  Trans & Cap Impro...|          null|\n",
      "|Code Enforcement|       NO|        YES|Front Or Side Yar...|   16.06|     Closed|               4|Code Enforcement ...|  DSD/Code Enforcement|          null|\n",
      "|Code Enforcement|       NO|        YES|Front Or Side Yar...|   16.06|     Closed|               4|Code Enforcement ...|  DSD/Code Enforcement|          null|\n",
      "|Code Enforcement|       NO|        YES|Right Of Way/Side...|   16.06|     Closed|               4|Code Enforcement ...|  DSD/Code Enforcement|          null|\n",
      "|Code Enforcement|       NO|        YES|Front Or Side Yar...|   16.06|     Closed|               4|Code Enforcement ...|  DSD/Code Enforcement|          null|\n",
      "+----------------+---------+-----------+--------------------+--------+-----------+----------------+--------------------+----------------------+--------------+\n",
      "only showing top 10 rows\n",
      "\n"
     ]
    }
   ],
   "source": [
    "df.show(10)"
   ]
  },
  {
   "cell_type": "code",
   "execution_count": null,
   "metadata": {},
   "outputs": [],
   "source": []
  },
  {
   "cell_type": "code",
   "execution_count": 91,
   "metadata": {
    "ExecuteTime": {
     "end_time": "2019-05-17T19:54:03.958135Z",
     "start_time": "2019-05-17T19:54:02.575910Z"
    },
    "scrolled": true
   },
   "outputs": [
    {
     "ename": "AnalysisException",
     "evalue": "\"cannot resolve '`labels`' given input columns: [dept_division, label, service_request_type, case_late, case_days_open, council_district, SLA_days, standardized_dept_name, case_status, dept_name, case_closed, features];;\\n'Project [features#2516, 'labels]\\n+- Project [dept_division#1475, case_late#1481, case_closed#1483, service_request_type#1484, SLA_days#1583, case_status#1486, council_district#1488, dept_name#1490, standardized_dept_name#1491, case_days_open#1511, features#2516, UDF(cast(case_late#1481 as string)) AS label#2539]\\n   +- Project [dept_division#1475, case_late#1481, case_closed#1483, service_request_type#1484, SLA_days#1583, case_status#1486, council_district#1488, dept_name#1490, standardized_dept_name#1491, case_days_open#1511, features#2516]\\n      +- Project [dept_division#1475, case_late#1481, case_closed#1483, service_request_type#1484, SLA_days#1583, case_status#1486, council_district#1488, dept_name#1490, standardized_dept_name#1491, case_days_open#1511, features#2504 AS features#2516]\\n         +- Project [dept_division#1475, case_late#1481, case_closed#1483, service_request_type#1484, SLA_days#1583, case_status#1486, council_district#1488, dept_name#1490, standardized_dept_name#1491, case_days_open#1511, UDF(named_struct(SLA_days, SLA_days#1583, council_district_double_RFormula_791d32eb10a5, cast(council_district#1488 as double))) AS features#2504]\\n            +- Project [dept_division#1475, case_late#1481, case_closed#1483, service_request_type#1484, round(SLA_days#1485, 2) AS SLA_days#1583, case_status#1486, council_district#1488, dept_name#1490, standardized_dept_name#1491, case_days_open#1511]\\n               +- Project [dept_division#1475, case_late#1481, case_closed#1483, service_request_type#1484, SLA_days#1485, case_status#1486, council_district#1488, dept_name#1490, standardized_dept_name#1491, case_days_open#1511]\\n                  +- Project [dept_division#1475, source_id#1476, case_id#1477, case_opened_date#1478, case_closed_date#1479, SLA_due_date#1480, case_late#1481, num_days_late#1482, case_closed#1483, service_request_type#1484, SLA_days#1485, case_status#1486, request_address#1487, council_district#1488, source_username#1489, dept_name#1490, standardized_dept_name#1491, dept_subject_to_SLA#1492, datediff(cast(case_closed_date#1479 as date), cast(case_opened_date#1478 as date)) AS case_days_open#1511]\\n                     +- Relation[dept_division#1475,source_id#1476,case_id#1477,case_opened_date#1478,case_closed_date#1479,SLA_due_date#1480,case_late#1481,num_days_late#1482,case_closed#1483,service_request_type#1484,SLA_days#1485,case_status#1486,request_address#1487,council_district#1488,source_username#1489,dept_name#1490,standardized_dept_name#1491,dept_subject_to_SLA#1492] csv\\n\"",
     "output_type": "error",
     "traceback": [
      "\u001b[0;31m---------------------------------------------------------------------------\u001b[0m",
      "\u001b[0;31mPy4JJavaError\u001b[0m                             Traceback (most recent call last)",
      "\u001b[0;32m/usr/local/anaconda3/lib/python3.7/site-packages/pyspark/sql/utils.py\u001b[0m in \u001b[0;36mdeco\u001b[0;34m(*a, **kw)\u001b[0m\n\u001b[1;32m     62\u001b[0m         \u001b[0;32mtry\u001b[0m\u001b[0;34m:\u001b[0m\u001b[0;34m\u001b[0m\u001b[0;34m\u001b[0m\u001b[0m\n\u001b[0;32m---> 63\u001b[0;31m             \u001b[0;32mreturn\u001b[0m \u001b[0mf\u001b[0m\u001b[0;34m(\u001b[0m\u001b[0;34m*\u001b[0m\u001b[0ma\u001b[0m\u001b[0;34m,\u001b[0m \u001b[0;34m**\u001b[0m\u001b[0mkw\u001b[0m\u001b[0;34m)\u001b[0m\u001b[0;34m\u001b[0m\u001b[0;34m\u001b[0m\u001b[0m\n\u001b[0m\u001b[1;32m     64\u001b[0m         \u001b[0;32mexcept\u001b[0m \u001b[0mpy4j\u001b[0m\u001b[0;34m.\u001b[0m\u001b[0mprotocol\u001b[0m\u001b[0;34m.\u001b[0m\u001b[0mPy4JJavaError\u001b[0m \u001b[0;32mas\u001b[0m \u001b[0me\u001b[0m\u001b[0;34m:\u001b[0m\u001b[0;34m\u001b[0m\u001b[0;34m\u001b[0m\u001b[0m\n",
      "\u001b[0;32m/usr/local/anaconda3/lib/python3.7/site-packages/py4j/protocol.py\u001b[0m in \u001b[0;36mget_return_value\u001b[0;34m(answer, gateway_client, target_id, name)\u001b[0m\n\u001b[1;32m    327\u001b[0m                     \u001b[0;34m\"An error occurred while calling {0}{1}{2}.\\n\"\u001b[0m\u001b[0;34m.\u001b[0m\u001b[0;34m\u001b[0m\u001b[0;34m\u001b[0m\u001b[0m\n\u001b[0;32m--> 328\u001b[0;31m                     format(target_id, \".\", name), value)\n\u001b[0m\u001b[1;32m    329\u001b[0m             \u001b[0;32melse\u001b[0m\u001b[0;34m:\u001b[0m\u001b[0;34m\u001b[0m\u001b[0;34m\u001b[0m\u001b[0m\n",
      "\u001b[0;31mPy4JJavaError\u001b[0m: An error occurred while calling o493.select.\n: org.apache.spark.sql.AnalysisException: cannot resolve '`labels`' given input columns: [dept_division, label, service_request_type, case_late, case_days_open, council_district, SLA_days, standardized_dept_name, case_status, dept_name, case_closed, features];;\n'Project [features#2516, 'labels]\n+- Project [dept_division#1475, case_late#1481, case_closed#1483, service_request_type#1484, SLA_days#1583, case_status#1486, council_district#1488, dept_name#1490, standardized_dept_name#1491, case_days_open#1511, features#2516, UDF(cast(case_late#1481 as string)) AS label#2539]\n   +- Project [dept_division#1475, case_late#1481, case_closed#1483, service_request_type#1484, SLA_days#1583, case_status#1486, council_district#1488, dept_name#1490, standardized_dept_name#1491, case_days_open#1511, features#2516]\n      +- Project [dept_division#1475, case_late#1481, case_closed#1483, service_request_type#1484, SLA_days#1583, case_status#1486, council_district#1488, dept_name#1490, standardized_dept_name#1491, case_days_open#1511, features#2504 AS features#2516]\n         +- Project [dept_division#1475, case_late#1481, case_closed#1483, service_request_type#1484, SLA_days#1583, case_status#1486, council_district#1488, dept_name#1490, standardized_dept_name#1491, case_days_open#1511, UDF(named_struct(SLA_days, SLA_days#1583, council_district_double_RFormula_791d32eb10a5, cast(council_district#1488 as double))) AS features#2504]\n            +- Project [dept_division#1475, case_late#1481, case_closed#1483, service_request_type#1484, round(SLA_days#1485, 2) AS SLA_days#1583, case_status#1486, council_district#1488, dept_name#1490, standardized_dept_name#1491, case_days_open#1511]\n               +- Project [dept_division#1475, case_late#1481, case_closed#1483, service_request_type#1484, SLA_days#1485, case_status#1486, council_district#1488, dept_name#1490, standardized_dept_name#1491, case_days_open#1511]\n                  +- Project [dept_division#1475, source_id#1476, case_id#1477, case_opened_date#1478, case_closed_date#1479, SLA_due_date#1480, case_late#1481, num_days_late#1482, case_closed#1483, service_request_type#1484, SLA_days#1485, case_status#1486, request_address#1487, council_district#1488, source_username#1489, dept_name#1490, standardized_dept_name#1491, dept_subject_to_SLA#1492, datediff(cast(case_closed_date#1479 as date), cast(case_opened_date#1478 as date)) AS case_days_open#1511]\n                     +- Relation[dept_division#1475,source_id#1476,case_id#1477,case_opened_date#1478,case_closed_date#1479,SLA_due_date#1480,case_late#1481,num_days_late#1482,case_closed#1483,service_request_type#1484,SLA_days#1485,case_status#1486,request_address#1487,council_district#1488,source_username#1489,dept_name#1490,standardized_dept_name#1491,dept_subject_to_SLA#1492] csv\n\n\tat org.apache.spark.sql.catalyst.analysis.package$AnalysisErrorAt.failAnalysis(package.scala:42)\n\tat org.apache.spark.sql.catalyst.analysis.CheckAnalysis$$anonfun$checkAnalysis$1$$anonfun$apply$3.applyOrElse(CheckAnalysis.scala:110)\n\tat org.apache.spark.sql.catalyst.analysis.CheckAnalysis$$anonfun$checkAnalysis$1$$anonfun$apply$3.applyOrElse(CheckAnalysis.scala:107)\n\tat org.apache.spark.sql.catalyst.trees.TreeNode$$anonfun$transformUp$1.apply(TreeNode.scala:278)\n\tat org.apache.spark.sql.catalyst.trees.TreeNode$$anonfun$transformUp$1.apply(TreeNode.scala:278)\n\tat org.apache.spark.sql.catalyst.trees.CurrentOrigin$.withOrigin(TreeNode.scala:70)\n\tat org.apache.spark.sql.catalyst.trees.TreeNode.transformUp(TreeNode.scala:277)\n\tat org.apache.spark.sql.catalyst.plans.QueryPlan$$anonfun$transformExpressionsUp$1.apply(QueryPlan.scala:93)\n\tat org.apache.spark.sql.catalyst.plans.QueryPlan$$anonfun$transformExpressionsUp$1.apply(QueryPlan.scala:93)\n\tat org.apache.spark.sql.catalyst.plans.QueryPlan$$anonfun$1.apply(QueryPlan.scala:105)\n\tat org.apache.spark.sql.catalyst.plans.QueryPlan$$anonfun$1.apply(QueryPlan.scala:105)\n\tat org.apache.spark.sql.catalyst.trees.CurrentOrigin$.withOrigin(TreeNode.scala:70)\n\tat org.apache.spark.sql.catalyst.plans.QueryPlan.transformExpression$1(QueryPlan.scala:104)\n\tat org.apache.spark.sql.catalyst.plans.QueryPlan.org$apache$spark$sql$catalyst$plans$QueryPlan$$recursiveTransform$1(QueryPlan.scala:116)\n\tat org.apache.spark.sql.catalyst.plans.QueryPlan$$anonfun$org$apache$spark$sql$catalyst$plans$QueryPlan$$recursiveTransform$1$2.apply(QueryPlan.scala:121)\n\tat scala.collection.TraversableLike$$anonfun$map$1.apply(TraversableLike.scala:234)\n\tat scala.collection.TraversableLike$$anonfun$map$1.apply(TraversableLike.scala:234)\n\tat scala.collection.mutable.ResizableArray$class.foreach(ResizableArray.scala:59)\n\tat scala.collection.mutable.ArrayBuffer.foreach(ArrayBuffer.scala:48)\n\tat scala.collection.TraversableLike$class.map(TraversableLike.scala:234)\n\tat scala.collection.AbstractTraversable.map(Traversable.scala:104)\n\tat org.apache.spark.sql.catalyst.plans.QueryPlan.org$apache$spark$sql$catalyst$plans$QueryPlan$$recursiveTransform$1(QueryPlan.scala:121)\n\tat org.apache.spark.sql.catalyst.plans.QueryPlan$$anonfun$2.apply(QueryPlan.scala:126)\n\tat org.apache.spark.sql.catalyst.trees.TreeNode.mapProductIterator(TreeNode.scala:187)\n\tat org.apache.spark.sql.catalyst.plans.QueryPlan.mapExpressions(QueryPlan.scala:126)\n\tat org.apache.spark.sql.catalyst.plans.QueryPlan.transformExpressionsUp(QueryPlan.scala:93)\n\tat org.apache.spark.sql.catalyst.analysis.CheckAnalysis$$anonfun$checkAnalysis$1.apply(CheckAnalysis.scala:107)\n\tat org.apache.spark.sql.catalyst.analysis.CheckAnalysis$$anonfun$checkAnalysis$1.apply(CheckAnalysis.scala:85)\n\tat org.apache.spark.sql.catalyst.trees.TreeNode.foreachUp(TreeNode.scala:127)\n\tat org.apache.spark.sql.catalyst.analysis.CheckAnalysis$class.checkAnalysis(CheckAnalysis.scala:85)\n\tat org.apache.spark.sql.catalyst.analysis.Analyzer.checkAnalysis(Analyzer.scala:95)\n\tat org.apache.spark.sql.catalyst.analysis.Analyzer$$anonfun$executeAndCheck$1.apply(Analyzer.scala:108)\n\tat org.apache.spark.sql.catalyst.analysis.Analyzer$$anonfun$executeAndCheck$1.apply(Analyzer.scala:105)\n\tat org.apache.spark.sql.catalyst.plans.logical.AnalysisHelper$.markInAnalyzer(AnalysisHelper.scala:201)\n\tat org.apache.spark.sql.catalyst.analysis.Analyzer.executeAndCheck(Analyzer.scala:105)\n\tat org.apache.spark.sql.execution.QueryExecution.analyzed$lzycompute(QueryExecution.scala:57)\n\tat org.apache.spark.sql.execution.QueryExecution.analyzed(QueryExecution.scala:55)\n\tat org.apache.spark.sql.execution.QueryExecution.assertAnalyzed(QueryExecution.scala:47)\n\tat org.apache.spark.sql.Dataset$.ofRows(Dataset.scala:78)\n\tat org.apache.spark.sql.Dataset.org$apache$spark$sql$Dataset$$withPlan(Dataset.scala:3406)\n\tat org.apache.spark.sql.Dataset.select(Dataset.scala:1334)\n\tat sun.reflect.NativeMethodAccessorImpl.invoke0(Native Method)\n\tat sun.reflect.NativeMethodAccessorImpl.invoke(NativeMethodAccessorImpl.java:62)\n\tat sun.reflect.DelegatingMethodAccessorImpl.invoke(DelegatingMethodAccessorImpl.java:43)\n\tat java.lang.reflect.Method.invoke(Method.java:498)\n\tat py4j.reflection.MethodInvoker.invoke(MethodInvoker.java:244)\n\tat py4j.reflection.ReflectionEngine.invoke(ReflectionEngine.java:357)\n\tat py4j.Gateway.invoke(Gateway.java:282)\n\tat py4j.commands.AbstractCommand.invokeMethod(AbstractCommand.java:132)\n\tat py4j.commands.CallCommand.execute(CallCommand.java:79)\n\tat py4j.GatewayConnection.run(GatewayConnection.java:238)\n\tat java.lang.Thread.run(Thread.java:748)\n",
      "\nDuring handling of the above exception, another exception occurred:\n",
      "\u001b[0;31mAnalysisException\u001b[0m                         Traceback (most recent call last)",
      "\u001b[0;32m<ipython-input-91-57633ef032de>\u001b[0m in \u001b[0;36m<module>\u001b[0;34m\u001b[0m\n\u001b[1;32m      1\u001b[0m \u001b[0mrf\u001b[0m \u001b[0;34m=\u001b[0m \u001b[0mRFormula\u001b[0m\u001b[0;34m(\u001b[0m\u001b[0mformula\u001b[0m\u001b[0;34m=\u001b[0m\u001b[0;34m'case_late ~ SLA_days + council_district'\u001b[0m\u001b[0;34m)\u001b[0m\u001b[0;34m\u001b[0m\u001b[0;34m\u001b[0m\u001b[0m\n\u001b[1;32m      2\u001b[0m \u001b[0;34m\u001b[0m\u001b[0m\n\u001b[0;32m----> 3\u001b[0;31m \u001b[0mrf_df\u001b[0m \u001b[0;34m=\u001b[0m \u001b[0mrf\u001b[0m\u001b[0;34m.\u001b[0m\u001b[0mfit\u001b[0m\u001b[0;34m(\u001b[0m\u001b[0mdf\u001b[0m\u001b[0;34m)\u001b[0m\u001b[0;34m.\u001b[0m\u001b[0mtransform\u001b[0m\u001b[0;34m(\u001b[0m\u001b[0mdf\u001b[0m\u001b[0;34m)\u001b[0m\u001b[0;34m.\u001b[0m\u001b[0mselect\u001b[0m\u001b[0;34m(\u001b[0m\u001b[0;34m'features'\u001b[0m\u001b[0;34m,\u001b[0m \u001b[0;34m'labels'\u001b[0m\u001b[0;34m)\u001b[0m\u001b[0;34m\u001b[0m\u001b[0;34m\u001b[0m\u001b[0m\n\u001b[0m",
      "\u001b[0;32m/usr/local/anaconda3/lib/python3.7/site-packages/pyspark/sql/dataframe.py\u001b[0m in \u001b[0;36mselect\u001b[0;34m(self, *cols)\u001b[0m\n\u001b[1;32m   1318\u001b[0m         \u001b[0;34m[\u001b[0m\u001b[0mRow\u001b[0m\u001b[0;34m(\u001b[0m\u001b[0mname\u001b[0m\u001b[0;34m=\u001b[0m\u001b[0;34mu'Alice'\u001b[0m\u001b[0;34m,\u001b[0m \u001b[0mage\u001b[0m\u001b[0;34m=\u001b[0m\u001b[0;36m12\u001b[0m\u001b[0;34m)\u001b[0m\u001b[0;34m,\u001b[0m \u001b[0mRow\u001b[0m\u001b[0;34m(\u001b[0m\u001b[0mname\u001b[0m\u001b[0;34m=\u001b[0m\u001b[0;34mu'Bob'\u001b[0m\u001b[0;34m,\u001b[0m \u001b[0mage\u001b[0m\u001b[0;34m=\u001b[0m\u001b[0;36m15\u001b[0m\u001b[0;34m)\u001b[0m\u001b[0;34m]\u001b[0m\u001b[0;34m\u001b[0m\u001b[0;34m\u001b[0m\u001b[0m\n\u001b[1;32m   1319\u001b[0m         \"\"\"\n\u001b[0;32m-> 1320\u001b[0;31m         \u001b[0mjdf\u001b[0m \u001b[0;34m=\u001b[0m \u001b[0mself\u001b[0m\u001b[0;34m.\u001b[0m\u001b[0m_jdf\u001b[0m\u001b[0;34m.\u001b[0m\u001b[0mselect\u001b[0m\u001b[0;34m(\u001b[0m\u001b[0mself\u001b[0m\u001b[0;34m.\u001b[0m\u001b[0m_jcols\u001b[0m\u001b[0;34m(\u001b[0m\u001b[0;34m*\u001b[0m\u001b[0mcols\u001b[0m\u001b[0;34m)\u001b[0m\u001b[0;34m)\u001b[0m\u001b[0;34m\u001b[0m\u001b[0;34m\u001b[0m\u001b[0m\n\u001b[0m\u001b[1;32m   1321\u001b[0m         \u001b[0;32mreturn\u001b[0m \u001b[0mDataFrame\u001b[0m\u001b[0;34m(\u001b[0m\u001b[0mjdf\u001b[0m\u001b[0;34m,\u001b[0m \u001b[0mself\u001b[0m\u001b[0;34m.\u001b[0m\u001b[0msql_ctx\u001b[0m\u001b[0;34m)\u001b[0m\u001b[0;34m\u001b[0m\u001b[0;34m\u001b[0m\u001b[0m\n\u001b[1;32m   1322\u001b[0m \u001b[0;34m\u001b[0m\u001b[0m\n",
      "\u001b[0;32m/usr/local/anaconda3/lib/python3.7/site-packages/py4j/java_gateway.py\u001b[0m in \u001b[0;36m__call__\u001b[0;34m(self, *args)\u001b[0m\n\u001b[1;32m   1255\u001b[0m         \u001b[0manswer\u001b[0m \u001b[0;34m=\u001b[0m \u001b[0mself\u001b[0m\u001b[0;34m.\u001b[0m\u001b[0mgateway_client\u001b[0m\u001b[0;34m.\u001b[0m\u001b[0msend_command\u001b[0m\u001b[0;34m(\u001b[0m\u001b[0mcommand\u001b[0m\u001b[0;34m)\u001b[0m\u001b[0;34m\u001b[0m\u001b[0;34m\u001b[0m\u001b[0m\n\u001b[1;32m   1256\u001b[0m         return_value = get_return_value(\n\u001b[0;32m-> 1257\u001b[0;31m             answer, self.gateway_client, self.target_id, self.name)\n\u001b[0m\u001b[1;32m   1258\u001b[0m \u001b[0;34m\u001b[0m\u001b[0m\n\u001b[1;32m   1259\u001b[0m         \u001b[0;32mfor\u001b[0m \u001b[0mtemp_arg\u001b[0m \u001b[0;32min\u001b[0m \u001b[0mtemp_args\u001b[0m\u001b[0;34m:\u001b[0m\u001b[0;34m\u001b[0m\u001b[0;34m\u001b[0m\u001b[0m\n",
      "\u001b[0;32m/usr/local/anaconda3/lib/python3.7/site-packages/pyspark/sql/utils.py\u001b[0m in \u001b[0;36mdeco\u001b[0;34m(*a, **kw)\u001b[0m\n\u001b[1;32m     67\u001b[0m                                              e.java_exception.getStackTrace()))\n\u001b[1;32m     68\u001b[0m             \u001b[0;32mif\u001b[0m \u001b[0ms\u001b[0m\u001b[0;34m.\u001b[0m\u001b[0mstartswith\u001b[0m\u001b[0;34m(\u001b[0m\u001b[0;34m'org.apache.spark.sql.AnalysisException: '\u001b[0m\u001b[0;34m)\u001b[0m\u001b[0;34m:\u001b[0m\u001b[0;34m\u001b[0m\u001b[0;34m\u001b[0m\u001b[0m\n\u001b[0;32m---> 69\u001b[0;31m                 \u001b[0;32mraise\u001b[0m \u001b[0mAnalysisException\u001b[0m\u001b[0;34m(\u001b[0m\u001b[0ms\u001b[0m\u001b[0;34m.\u001b[0m\u001b[0msplit\u001b[0m\u001b[0;34m(\u001b[0m\u001b[0;34m': '\u001b[0m\u001b[0;34m,\u001b[0m \u001b[0;36m1\u001b[0m\u001b[0;34m)\u001b[0m\u001b[0;34m[\u001b[0m\u001b[0;36m1\u001b[0m\u001b[0;34m]\u001b[0m\u001b[0;34m,\u001b[0m \u001b[0mstackTrace\u001b[0m\u001b[0;34m)\u001b[0m\u001b[0;34m\u001b[0m\u001b[0;34m\u001b[0m\u001b[0m\n\u001b[0m\u001b[1;32m     70\u001b[0m             \u001b[0;32mif\u001b[0m \u001b[0ms\u001b[0m\u001b[0;34m.\u001b[0m\u001b[0mstartswith\u001b[0m\u001b[0;34m(\u001b[0m\u001b[0;34m'org.apache.spark.sql.catalyst.analysis'\u001b[0m\u001b[0;34m)\u001b[0m\u001b[0;34m:\u001b[0m\u001b[0;34m\u001b[0m\u001b[0;34m\u001b[0m\u001b[0m\n\u001b[1;32m     71\u001b[0m                 \u001b[0;32mraise\u001b[0m \u001b[0mAnalysisException\u001b[0m\u001b[0;34m(\u001b[0m\u001b[0ms\u001b[0m\u001b[0;34m.\u001b[0m\u001b[0msplit\u001b[0m\u001b[0;34m(\u001b[0m\u001b[0;34m': '\u001b[0m\u001b[0;34m,\u001b[0m \u001b[0;36m1\u001b[0m\u001b[0;34m)\u001b[0m\u001b[0;34m[\u001b[0m\u001b[0;36m1\u001b[0m\u001b[0;34m]\u001b[0m\u001b[0;34m,\u001b[0m \u001b[0mstackTrace\u001b[0m\u001b[0;34m)\u001b[0m\u001b[0;34m\u001b[0m\u001b[0;34m\u001b[0m\u001b[0m\n",
      "\u001b[0;31mAnalysisException\u001b[0m: \"cannot resolve '`labels`' given input columns: [dept_division, label, service_request_type, case_late, case_days_open, council_district, SLA_days, standardized_dept_name, case_status, dept_name, case_closed, features];;\\n'Project [features#2516, 'labels]\\n+- Project [dept_division#1475, case_late#1481, case_closed#1483, service_request_type#1484, SLA_days#1583, case_status#1486, council_district#1488, dept_name#1490, standardized_dept_name#1491, case_days_open#1511, features#2516, UDF(cast(case_late#1481 as string)) AS label#2539]\\n   +- Project [dept_division#1475, case_late#1481, case_closed#1483, service_request_type#1484, SLA_days#1583, case_status#1486, council_district#1488, dept_name#1490, standardized_dept_name#1491, case_days_open#1511, features#2516]\\n      +- Project [dept_division#1475, case_late#1481, case_closed#1483, service_request_type#1484, SLA_days#1583, case_status#1486, council_district#1488, dept_name#1490, standardized_dept_name#1491, case_days_open#1511, features#2504 AS features#2516]\\n         +- Project [dept_division#1475, case_late#1481, case_closed#1483, service_request_type#1484, SLA_days#1583, case_status#1486, council_district#1488, dept_name#1490, standardized_dept_name#1491, case_days_open#1511, UDF(named_struct(SLA_days, SLA_days#1583, council_district_double_RFormula_791d32eb10a5, cast(council_district#1488 as double))) AS features#2504]\\n            +- Project [dept_division#1475, case_late#1481, case_closed#1483, service_request_type#1484, round(SLA_days#1485, 2) AS SLA_days#1583, case_status#1486, council_district#1488, dept_name#1490, standardized_dept_name#1491, case_days_open#1511]\\n               +- Project [dept_division#1475, case_late#1481, case_closed#1483, service_request_type#1484, SLA_days#1485, case_status#1486, council_district#1488, dept_name#1490, standardized_dept_name#1491, case_days_open#1511]\\n                  +- Project [dept_division#1475, source_id#1476, case_id#1477, case_opened_date#1478, case_closed_date#1479, SLA_due_date#1480, case_late#1481, num_days_late#1482, case_closed#1483, service_request_type#1484, SLA_days#1485, case_status#1486, request_address#1487, council_district#1488, source_username#1489, dept_name#1490, standardized_dept_name#1491, dept_subject_to_SLA#1492, datediff(cast(case_closed_date#1479 as date), cast(case_opened_date#1478 as date)) AS case_days_open#1511]\\n                     +- Relation[dept_division#1475,source_id#1476,case_id#1477,case_opened_date#1478,case_closed_date#1479,SLA_due_date#1480,case_late#1481,num_days_late#1482,case_closed#1483,service_request_type#1484,SLA_days#1485,case_status#1486,request_address#1487,council_district#1488,source_username#1489,dept_name#1490,standardized_dept_name#1491,dept_subject_to_SLA#1492] csv\\n\""
     ]
    }
   ],
   "source": [
    "rf = RFormula(formula='case_late ~ SLA_days + council_district')\n",
    "\n",
    "rf_df = rf.fit(df).transform(df).select('features', 'labels')"
   ]
  },
  {
   "cell_type": "code",
   "execution_count": null,
   "metadata": {},
   "outputs": [],
   "source": []
  }
 ],
 "metadata": {
  "kernelspec": {
   "display_name": "Python 3",
   "language": "python",
   "name": "python3"
  },
  "language_info": {
   "codemirror_mode": {
    "name": "ipython",
    "version": 3
   },
   "file_extension": ".py",
   "mimetype": "text/x-python",
   "name": "python",
   "nbconvert_exporter": "python",
   "pygments_lexer": "ipython3",
   "version": "3.7.1"
  },
  "toc": {
   "base_numbering": 1,
   "nav_menu": {},
   "number_sections": true,
   "sideBar": false,
   "skip_h1_title": false,
   "title_cell": "Table of Contents",
   "title_sidebar": "Contents",
   "toc_cell": true,
   "toc_position": {
    "height": "204px",
    "left": "1064px",
    "top": "110px",
    "width": "172.391px"
   },
   "toc_section_display": true,
   "toc_window_display": true
  }
 },
 "nbformat": 4,
 "nbformat_minor": 2
}
