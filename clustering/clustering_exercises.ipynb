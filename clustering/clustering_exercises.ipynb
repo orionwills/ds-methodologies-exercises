{
 "cells": [
  {
   "cell_type": "code",
   "execution_count": 1,
   "metadata": {},
   "outputs": [],
   "source": [
    "from acquire_zillow import *\n",
    "from acquire_mall import *\n",
    "from prepare_mall import *\n",
    "from prepare_zillow import *\n",
    "import env\n",
    "\n",
    "\n",
    "# ignore warnings\n",
    "import warnings\n",
    "warnings.filterwarnings(\"ignore\")\n",
    "\n",
    "# image stuff\n",
    "from IPython.display import display\n",
    "from PIL import Image\n",
    "\n",
    "# Wrangling\n",
    "import pandas as pd\n",
    "import numpy as np\n",
    "\n",
    "# Exploring\n",
    "import scipy.stats as stats\n",
    "import statsmodels.api as sm\n",
    "from scipy.stats import chi2_contingency\n",
    "from sklearn.model_selection import train_test_split\n",
    "from sklearn.preprocessing import MinMaxScaler\n",
    "from sklearn.preprocessing import LabelEncoder\n",
    "from sklearn.feature_selection import chi2 as chi2\n",
    "from sklearn.feature_selection import SelectKBest\n",
    "from sklearn.cluster import KMeans\n",
    "from sklearn.metrics import accuracy_score\n",
    "from xgboost import XGBClassifier\n",
    "\n",
    "from mpl_toolkits.mplot3d import Axes3D\n",
    "\n",
    "\n",
    "# Visualizing\n",
    "%matplotlib inline\n",
    "import matplotlib.pyplot as plt\n",
    "import seaborn as sns\n",
    "\n",
    "# default pandas decimal number display format\n",
    "pd.options.display.float_format = '{:20,.2f}'.format"
   ]
  },
  {
   "cell_type": "code",
   "execution_count": 2,
   "metadata": {},
   "outputs": [
    {
     "data": {
      "image/png": "[encoded data removed]",
      "text/plain": [
       "<PIL.PngImagePlugin.PngImageFile image mode=RGBA size=250x167 at 0x1039AD4A8>"
      ]
     },
     "metadata": {},
     "output_type": "display_data"
    },
    {
     "name": "stdout",
     "output_type": "stream",
     "text": [
      "Detected zillow_data.csv - use csv (1) or gather new data (2)? 1\n",
      "--- Beginning CSV Import --\n",
      "\n",
      "--- CSV Import Complete --\n",
      "\n",
      "Shape of DataFrame: (167854, 59)\n"
     ]
    }
   ],
   "source": [
    "df = single_units(acquire_zillow())"
   ]
  },
  {
   "cell_type": "code",
   "execution_count": 3,
   "metadata": {},
   "outputs": [],
   "source": [
    "df = zillow_data_prep(df, cols_to_remove=[], prop_required_column=.95,\n",
    "                      prop_required_row=.95)\n",
    "df.dropna(inplace=True)\n",
    "df.drop(columns=(['finishedsquarefeet12', 'fips', 'calculatedbathnbr',\n",
    "                  'fullbathcnt', 'propertycountylandusecode',\n",
    "                  'propertyzoningdesc', 'rawcensustractandblock',\n",
    "                  'structuretaxvaluedollarcnt', 'censustractandblock',\n",
    "                  'heatingorsystemdesc', 'propertylandusedesc', 'roomcnt',\n",
    "                  'unitcnt', 'regionidcounty']), inplace=True)\n",
    "df.reset_index(inplace=True, drop=True)"
   ]
  },
  {
   "cell_type": "code",
   "execution_count": 4,
   "metadata": {},
   "outputs": [
    {
     "data": {
      "text/plain": [
       "(72930, 17)"
      ]
     },
     "execution_count": 4,
     "metadata": {},
     "output_type": "execute_result"
    }
   ],
   "source": [
    "df.shape"
   ]
  },
  {
   "cell_type": "code",
   "execution_count": null,
   "metadata": {},
   "outputs": [],
   "source": [
    "df.columns"
   ]
  },
  {
   "cell_type": "code",
   "execution_count": null,
   "metadata": {},
   "outputs": [],
   "source": [
    "keys = ['bathroomcnt','bedroomcnt','calculatedfinishedsquarefeet',\n",
    "        'landtaxvaluedollarcnt', 'lotsizesquarefeet',\n",
    "        'taxvaluedollarcnt', 'taxamount']\n",
    "values = [(1,7), (1,7), (500,8000), (10000,2500000),\n",
    "          (2500, 20000), (25000, 900000), (1000, 17000)]\n",
    "\n",
    "dictionary = dict(zip(keys, values))\n",
    "\n",
    "for key, value in dictionary.items():\n",
    "    df = df[df[key] >= value[0]]\n",
    "    df = df[df[key] <= value[1]]"
   ]
  },
  {
   "cell_type": "code",
   "execution_count": null,
   "metadata": {},
   "outputs": [],
   "source": [
    "to_standardize = df[['calculatedfinishedsquarefeet', 'lotsizesquarefeet',\n",
    "                    'taxvaluedollarcnt', 'landtaxvaluedollarcnt', 'taxamount']]"
   ]
  },
  {
   "cell_type": "code",
   "execution_count": null,
   "metadata": {},
   "outputs": [],
   "source": [
    "scaler = MinMaxScaler()\n",
    "num_vars = list(df.select_dtypes('number').columns)\n",
    "\n",
    "# print('Scaling {}, and {}...'.format(', '.join(num_vars[:-1]), num_vars[-1]))\n",
    "df[num_vars] = scaler.fit_transform(df[num_vars])"
   ]
  },
  {
   "cell_type": "code",
   "execution_count": null,
   "metadata": {},
   "outputs": [],
   "source": [
    "df.describe()"
   ]
  },
  {
   "cell_type": "code",
   "execution_count": null,
   "metadata": {},
   "outputs": [],
   "source": [
    "df2 = df.drop(columns=(['id', 'parcelid', 'regionidcity',\n",
    "                        'assessmentyear', 'regionidzip',\n",
    "                        'transactiondate']))"
   ]
  },
  {
   "cell_type": "code",
   "execution_count": null,
   "metadata": {},
   "outputs": [],
   "source": [
    " df2.columns"
   ]
  },
  {
   "cell_type": "code",
   "execution_count": null,
   "metadata": {},
   "outputs": [],
   "source": [
    "sns.pairplot(df2)"
   ]
  },
  {
   "cell_type": "code",
   "execution_count": null,
   "metadata": {
    "scrolled": false
   },
   "outputs": [],
   "source": [
    "def heatmap_plot(cols):\n",
    "    fig, ax = plt.subplots(figsize=(12, 8))\n",
    "    mask = np.zeros_like(df2[cols].corr(), dtype=np.bool)\n",
    "    mask[np.triu_indices_from(mask)] = True\n",
    "    sns.heatmap(df2[cols].corr(), annot=True, ax=ax, cmap='coolwarm',\n",
    "                annot_kws={\"size\": 20}, mask=mask)\n",
    "    ax.tick_params(labelsize=10)\n",
    "\n",
    "heatmap_plot(['logerror', 'taxvaluedollarcnt',\n",
    "                           'landtaxvaluedollarcnt', 'taxamount'])"
   ]
  },
  {
   "cell_type": "code",
   "execution_count": null,
   "metadata": {},
   "outputs": [],
   "source": [
    "df.hist(figsize=(20,10), log=False)"
   ]
  },
  {
   "cell_type": "code",
   "execution_count": null,
   "metadata": {},
   "outputs": [],
   "source": [
    "sns.boxplot(data=df)"
   ]
  },
  {
   "cell_type": "code",
   "execution_count": null,
   "metadata": {},
   "outputs": [],
   "source": [
    "df.columns"
   ]
  },
  {
   "cell_type": "code",
   "execution_count": null,
   "metadata": {},
   "outputs": [],
   "source": [
    "df.drop(columns=(['parcelid', 'id', 'transactiondate'])).shape[1]"
   ]
  },
  {
   "cell_type": "code",
   "execution_count": null,
   "metadata": {},
   "outputs": [],
   "source": [
    "df.info()"
   ]
  },
  {
   "cell_type": "code",
   "execution_count": null,
   "metadata": {},
   "outputs": [],
   "source": [
    "sns.jointplot(x='landtaxvaluedollarcnt', y='logerror', data=df)"
   ]
  },
  {
   "cell_type": "code",
   "execution_count": null,
   "metadata": {},
   "outputs": [],
   "source": [
    "sns.jointplot(x='taxamount', y='logerror', data=df)"
   ]
  },
  {
   "cell_type": "code",
   "execution_count": null,
   "metadata": {},
   "outputs": [],
   "source": [
    "sns.jointplot(x='taxvaluedollarcnt', y='logerror', data=df)"
   ]
  },
  {
   "cell_type": "code",
   "execution_count": null,
   "metadata": {
    "scrolled": true
   },
   "outputs": [],
   "source": [
    "sns.jointplot(x='calculatedfinishedsquarefeet', y='logerror', data=df)"
   ]
  },
  {
   "cell_type": "code",
   "execution_count": null,
   "metadata": {},
   "outputs": [],
   "source": [
    "sns.jointplot(x='bathroomcnt', y='logerror', data=df)"
   ]
  },
  {
   "cell_type": "code",
   "execution_count": null,
   "metadata": {},
   "outputs": [],
   "source": [
    "sns.jointplot(x='logerror', y='bedroomcnt', data=df)"
   ]
  },
  {
   "cell_type": "code",
   "execution_count": null,
   "metadata": {
    "scrolled": false
   },
   "outputs": [],
   "source": [
    "sns.relplot(x='latitude', y='longitude',\n",
    "            hue='logerror', data=df2)"
   ]
  },
  {
   "cell_type": "code",
   "execution_count": null,
   "metadata": {},
   "outputs": [],
   "source": [
    "def encode_zillow(df):\n",
    "    '''encodes zillow columns into new enumerated columns'''\n",
    "    for col in df2:\n",
    "        encoder=LabelEncoder()\n",
    "        encoder.fit(df2[col])\n",
    "#         print(col)\n",
    "        new_col = col + '_encoded'\n",
    "#         print(new_col)\n",
    "        df2[new_col] = encoder.transform(df2[col])\n",
    "    return df"
   ]
  },
  {
   "cell_type": "code",
   "execution_count": null,
   "metadata": {},
   "outputs": [],
   "source": [
    "ks = range(1,10)\n",
    "sse = []\n",
    "for k in ks:\n",
    "    kmeans = KMeans(n_clusters=k)\n",
    "    kmeans.fit(df.select_dtypes('number'))\n",
    "\n",
    "    # inertia: Sum of squared distances of samples to their closest cluster center.\n",
    "    sse.append(kmeans.inertia_)\n",
    "\n",
    "print(pd.DataFrame(dict(k=ks, sse=sse)))\n",
    "\n",
    "plt.plot(ks, sse, 'bx-')\n",
    "plt.xlabel('k')\n",
    "plt.ylabel('SSE')\n",
    "plt.title('The Elbow Method showing the optimal k')\n",
    "plt.show()"
   ]
  },
  {
   "cell_type": "code",
   "execution_count": null,
   "metadata": {},
   "outputs": [],
   "source": [
    "estimators = [('4 Clusters', KMeans(n_clusters=4)),\n",
    "              ('5 Clusters', KMeans(n_clusters=5))]"
   ]
  },
  {
   "cell_type": "code",
   "execution_count": null,
   "metadata": {},
   "outputs": [],
   "source": [
    "df2.logerror.describe()"
   ]
  },
  {
   "cell_type": "code",
   "execution_count": null,
   "metadata": {
    "scrolled": false
   },
   "outputs": [],
   "source": [
    "for i, (title, kmeans) in enumerate(estimators):\n",
    "    # fit the kmeans object\n",
    "    kmeans.fit(df2)\n",
    "\n",
    "    fig = plt.figure(i + 1, figsize=(4, 3))\n",
    "    ax = Axes3D(fig, rect=[0, 0, .95, 1], elev=48, azim=134)\n",
    "    labels = kmeans.labels_\n",
    "\n",
    "    ax.scatter(df2.longitude, \n",
    "               df2.latitude, \n",
    "               df2.logerror,\n",
    "               c=labels.astype(np.float), edgecolor='k')\n",
    "\n",
    "    ax.w_xaxis.set_ticklabels([])\n",
    "    ax.w_yaxis.set_ticklabels([])\n",
    "    ax.w_zaxis.set_ticklabels([])\n",
    "    ax.set_xlabel('long')\n",
    "    ax.set_ylabel('lat')\n",
    "    ax.set_zlabel('logerror')\n",
    "    ax.set_title(title)\n",
    "    ax.dist = 12"
   ]
  },
  {
   "cell_type": "code",
   "execution_count": null,
   "metadata": {},
   "outputs": [],
   "source": [
    "plt.subplots(nrows=1,ncols=2, figsize=(12,6))\n",
    "for i, (title, kmeans) in enumerate(estimators):\n",
    "    kmeans.fit(df.select_dtypes('number'))\n",
    "    labels = kmeans.labels_\n",
    "    plot_number = i + 1 # i starts at 0, but plot nos should start at 1\n",
    "    plt.subplot(1, 2, plot_number)\n",
    "    plt.title(title)\n",
    "    sns.scatterplot(df.calculatedfinishedsquarefeet, df.logerror, hue=labels)"
   ]
  },
  {
   "cell_type": "code",
   "execution_count": null,
   "metadata": {},
   "outputs": [],
   "source": [
    "dfa = df.select_dtypes('number')\n",
    "dfa = dfa.drop(columns='logerror')\n",
    "kmeans = KMeans(n_clusters=5)\n",
    "kmeans.fit(dfa)"
   ]
  },
  {
   "cell_type": "code",
   "execution_count": null,
   "metadata": {},
   "outputs": [],
   "source": [
    "kmeans.predict(dfa)"
   ]
  },
  {
   "cell_type": "code",
   "execution_count": null,
   "metadata": {},
   "outputs": [],
   "source": [
    "kmeans.cluster_centers_\n"
   ]
  },
  {
   "cell_type": "code",
   "execution_count": null,
   "metadata": {},
   "outputs": [],
   "source": [
    "dfa.drop(columns='cluster', inplace=True)"
   ]
  },
  {
   "cell_type": "code",
   "execution_count": null,
   "metadata": {},
   "outputs": [],
   "source": [
    "dfa['cluster'] = kmeans.predict(dfa)\n",
    "dfa.cluster = 'cluster_' + dfa.cluster.astype('str')\n",
    "\n",
    "plt.figure(figsize=(10, 4))\n",
    "\n",
    "plt.subplot(121)\n",
    "\n",
    "for v in df.logerror.unique():\n",
    "    df = df[df.logerror == v]\n",
    "    plt.scatter(dfa.calculatedfinishedsquarefeet, dfa.taxvaluedollarcnt, label=v)\n",
    "\n",
    "plt.legend()\n",
    "plt.xlabel('sqft')\n",
    "plt.ylabel('tax value')\n",
    "plt.title('sqft x tax value by logerror')\n",
    "\n",
    "# plt.subplot(122)\n",
    "\n",
    "# for v in dfa.cluster.unique():\n",
    "#     df = dfa[df.cluster == v]\n",
    "#     plt.scatter(dfa.calculatedfinishedsquarefeet, dfa.taxvaluedollarcnt, label=v)\n",
    "\n",
    "# plt.legend()\n",
    "# plt.xlabel('sqft')\n",
    "# plt.ylabel('tax value')\n",
    "# plt.title('sqft x tax value by logerror')"
   ]
  },
  {
   "cell_type": "code",
   "execution_count": null,
   "metadata": {},
   "outputs": [],
   "source": []
  }
 ],
 "metadata": {
  "kernelspec": {
   "display_name": "Python 3",
   "language": "python",
   "name": "python3"
  },
  "language_info": {
   "codemirror_mode": {
    "name": "ipython",
    "version": 3
   },
   "file_extension": ".py",
   "mimetype": "text/x-python",
   "name": "python",
   "nbconvert_exporter": "python",
   "pygments_lexer": "ipython3",
   "version": "3.7.1"
  }
 },
 "nbformat": 4,
 "nbformat_minor": 2
}
