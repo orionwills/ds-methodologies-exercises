{
 "cells": [
  {
   "cell_type": "code",
   "execution_count": 1,
   "metadata": {},
   "outputs": [],
   "source": [
    "from prepare import *\n",
    "from acquire import *\n",
    "\n",
    "# ignore warnings\n",
    "import warnings\n",
    "warnings.filterwarnings(\"ignore\")\n",
    "\n",
    "import pandas as pd\n",
    "import numpy as np\n",
    "\n",
    "%matplotlib inline\n",
    "import matplotlib.pyplot as plt\n",
    "import seaborn as sns\n",
    "\n",
    "from sklearn.preprocessing import LabelEncoder\n",
    "from sklearn.preprocessing import MinMaxScaler\n",
    "from sklearn.model_selection import train_test_split as split_train_test\n"
   ]
  },
  {
   "cell_type": "code",
   "execution_count": 3,
   "metadata": {},
   "outputs": [
    {
     "data": {
      "text/html": [
       "<div>\n",
       "<style scoped>\n",
       "    .dataframe tbody tr th:only-of-type {\n",
       "        vertical-align: middle;\n",
       "    }\n",
       "\n",
       "    .dataframe tbody tr th {\n",
       "        vertical-align: top;\n",
       "    }\n",
       "\n",
       "    .dataframe thead th {\n",
       "        text-align: right;\n",
       "    }\n",
       "</style>\n",
       "<table border=\"1\" class=\"dataframe\">\n",
       "  <thead>\n",
       "    <tr style=\"text-align: right;\">\n",
       "      <th></th>\n",
       "      <th>passenger_id</th>\n",
       "      <th>survived</th>\n",
       "      <th>pclass</th>\n",
       "      <th>sex</th>\n",
       "      <th>age</th>\n",
       "      <th>sibsp</th>\n",
       "      <th>parch</th>\n",
       "      <th>fare</th>\n",
       "      <th>embarked</th>\n",
       "      <th>class</th>\n",
       "      <th>embark_town</th>\n",
       "      <th>alone</th>\n",
       "      <th>embarked_encode</th>\n",
       "    </tr>\n",
       "  </thead>\n",
       "  <tbody>\n",
       "    <tr>\n",
       "      <th>738</th>\n",
       "      <td>738</td>\n",
       "      <td>0</td>\n",
       "      <td>3</td>\n",
       "      <td>male</td>\n",
       "      <td>NaN</td>\n",
       "      <td>0</td>\n",
       "      <td>0</td>\n",
       "      <td>7.8958</td>\n",
       "      <td>S</td>\n",
       "      <td>Third</td>\n",
       "      <td>Southampton</td>\n",
       "      <td>1</td>\n",
       "      <td>3</td>\n",
       "    </tr>\n",
       "    <tr>\n",
       "      <th>767</th>\n",
       "      <td>767</td>\n",
       "      <td>0</td>\n",
       "      <td>3</td>\n",
       "      <td>female</td>\n",
       "      <td>30.5</td>\n",
       "      <td>0</td>\n",
       "      <td>0</td>\n",
       "      <td>7.7500</td>\n",
       "      <td>Q</td>\n",
       "      <td>Third</td>\n",
       "      <td>Queenstown</td>\n",
       "      <td>1</td>\n",
       "      <td>2</td>\n",
       "    </tr>\n",
       "    <tr>\n",
       "      <th>811</th>\n",
       "      <td>811</td>\n",
       "      <td>0</td>\n",
       "      <td>3</td>\n",
       "      <td>male</td>\n",
       "      <td>39.0</td>\n",
       "      <td>0</td>\n",
       "      <td>0</td>\n",
       "      <td>24.1500</td>\n",
       "      <td>S</td>\n",
       "      <td>Third</td>\n",
       "      <td>Southampton</td>\n",
       "      <td>1</td>\n",
       "      <td>3</td>\n",
       "    </tr>\n",
       "    <tr>\n",
       "      <th>208</th>\n",
       "      <td>208</td>\n",
       "      <td>1</td>\n",
       "      <td>3</td>\n",
       "      <td>female</td>\n",
       "      <td>16.0</td>\n",
       "      <td>0</td>\n",
       "      <td>0</td>\n",
       "      <td>7.7500</td>\n",
       "      <td>Q</td>\n",
       "      <td>Third</td>\n",
       "      <td>Queenstown</td>\n",
       "      <td>1</td>\n",
       "      <td>2</td>\n",
       "    </tr>\n",
       "    <tr>\n",
       "      <th>840</th>\n",
       "      <td>840</td>\n",
       "      <td>0</td>\n",
       "      <td>3</td>\n",
       "      <td>male</td>\n",
       "      <td>20.0</td>\n",
       "      <td>0</td>\n",
       "      <td>0</td>\n",
       "      <td>7.9250</td>\n",
       "      <td>S</td>\n",
       "      <td>Third</td>\n",
       "      <td>Southampton</td>\n",
       "      <td>1</td>\n",
       "      <td>3</td>\n",
       "    </tr>\n",
       "  </tbody>\n",
       "</table>\n",
       "</div>"
      ],
      "text/plain": [
       "     passenger_id  survived  pclass     sex   age  sibsp  parch     fare  \\\n",
       "738           738         0       3    male   NaN      0      0   7.8958   \n",
       "767           767         0       3  female  30.5      0      0   7.7500   \n",
       "811           811         0       3    male  39.0      0      0  24.1500   \n",
       "208           208         1       3  female  16.0      0      0   7.7500   \n",
       "840           840         0       3    male  20.0      0      0   7.9250   \n",
       "\n",
       "    embarked  class  embark_town  alone  embarked_encode  \n",
       "738        S  Third  Southampton      1                3  \n",
       "767        Q  Third   Queenstown      1                2  \n",
       "811        S  Third  Southampton      1                3  \n",
       "208        Q  Third   Queenstown      1                2  \n",
       "840        S  Third  Southampton      1                3  "
      ]
     },
     "execution_count": 3,
     "metadata": {},
     "output_type": "execute_result"
    }
   ],
   "source": [
    "df = prep_titanic(get_titanic_data())\n",
    "df.sample(5)"
   ]
  },
  {
   "cell_type": "code",
   "execution_count": 6,
   "metadata": {},
   "outputs": [],
   "source": [
    "df = df.dropna()"
   ]
  },
  {
   "cell_type": "code",
   "execution_count": 7,
   "metadata": {},
   "outputs": [],
   "source": [
    "train_df, test_df = train_test_split(df, test_size=.30, random_state=123, stratify=df[['survived']])"
   ]
  },
  {
   "cell_type": "code",
   "execution_count": 9,
   "metadata": {},
   "outputs": [
    {
     "data": {
      "text/plain": [
       "(499, 13)"
      ]
     },
     "execution_count": 9,
     "metadata": {},
     "output_type": "execute_result"
    }
   ],
   "source": [
    "train_df.shape"
   ]
  },
  {
   "cell_type": "code",
   "execution_count": 10,
   "metadata": {},
   "outputs": [
    {
     "data": {
      "text/plain": [
       "(215, 13)"
      ]
     },
     "execution_count": 10,
     "metadata": {},
     "output_type": "execute_result"
    }
   ],
   "source": [
    "test_df.shape"
   ]
  },
  {
   "cell_type": "code",
   "execution_count": 12,
   "metadata": {},
   "outputs": [
    {
     "data": {
      "text/plain": [
       "<matplotlib.axes._subplots.AxesSubplot at 0x1a20853f60>"
      ]
     },
     "execution_count": 12,
     "metadata": {},
     "output_type": "execute_result"
    },
    {
     "data": {
      "image/png": "[encoded data removed]",
      "text/plain": [
       "<Figure size 432x288 with 1 Axes>"
      ]
     },
     "metadata": {
      "needs_background": "light"
     },
     "output_type": "display_data"
    }
   ],
   "source": [
    "train_df.survived.value_counts().plot()"
   ]
  },
  {
   "cell_type": "code",
   "execution_count": 14,
   "metadata": {},
   "outputs": [
    {
     "data": {
      "text/plain": [
       "<matplotlib.axes._subplots.AxesSubplot at 0x1a20ddf7b8>"
      ]
     },
     "execution_count": 14,
     "metadata": {},
     "output_type": "execute_result"
    },
    {
     "data": {
      "image/png": "[encoded data removed]",
      "text/plain": [
       "<Figure size 432x288 with 1 Axes>"
      ]
     },
     "metadata": {
      "needs_background": "light"
     },
     "output_type": "display_data"
    }
   ],
   "source": [
    "train_df.survived.value_counts().plot(kind='bar', alpha=.5)"
   ]
  },
  {
   "cell_type": "code",
   "execution_count": 15,
   "metadata": {},
   "outputs": [
    {
     "data": {
      "image/png": "[encoded data removed]",
      "text/plain": [
       "<Figure size 432x288 with 1 Axes>"
      ]
     },
     "metadata": {
      "needs_background": "light"
     },
     "output_type": "display_data"
    }
   ],
   "source": [
    "train_df.survived.value_counts().sort_index().plot(kind = \"bar\",alpha = .5)\n",
    "plt.title(\"Distirbution of passsengers survived\")\n",
    "plt.grid(b = True , which = \"major\")"
   ]
  },
  {
   "cell_type": "code",
   "execution_count": 17,
   "metadata": {},
   "outputs": [
    {
     "data": {
      "image/png": "[encoded data removed]",
      "text/plain": [
       "<Figure size 1152x360 with 3 Axes>"
      ]
     },
     "metadata": {
      "needs_background": "light"
     },
     "output_type": "display_data"
    }
   ],
   "source": [
    "features = ['sex', 'class', 'alone']\n",
    "\n",
    "_, ax = plt.subplots(nrows=1, ncols=3, figsize=(16,5))\n",
    "\n",
    "survival_rate = train_df.survived.mean()\n",
    "\n",
    "for i, feature in enumerate(features):\n",
    "    sns.barplot(feature, 'survived', data=train_df, ax=ax[i], alpha=.5)\n",
    "    ax[i].set_ylabel('Survival Rate')\n",
    "    ax[i].axhline(survival_rate, ls='--', color='grey')"
   ]
  },
  {
   "cell_type": "code",
   "execution_count": 30,
   "metadata": {},
   "outputs": [
    {
     "data": {
      "text/plain": [
       "<matplotlib.axes._subplots.AxesSubplot at 0x1a217ddda0>"
      ]
     },
     "execution_count": 30,
     "metadata": {},
     "output_type": "execute_result"
    },
    {
     "data": {
      "image/png": "[encoded data removed]",
      "text/plain": [
       "<Figure size 432x288 with 1 Axes>"
      ]
     },
     "metadata": {
      "needs_background": "light"
     },
     "output_type": "display_data"
    }
   ],
   "source": [
    "sns.swarmplot(x='sex', y='alone', data=train_df, hue='survived')"
   ]
  },
  {
   "cell_type": "code",
   "execution_count": 35,
   "metadata": {},
   "outputs": [
    {
     "data": {
      "text/plain": [
       "<matplotlib.axes._subplots.AxesSubplot at 0x1a20f5e470>"
      ]
     },
     "execution_count": 35,
     "metadata": {},
     "output_type": "execute_result"
    },
    {
     "data": {
      "image/png": "[encoded data removed]",
      "text/plain": [
       "<Figure size 432x288 with 1 Axes>"
      ]
     },
     "metadata": {
      "needs_background": "light"
     },
     "output_type": "display_data"
    }
   ],
   "source": [
    "sns.barplot(x='sex', y='survived', data=train_df, hue='alone')"
   ]
  },
  {
   "cell_type": "code",
   "execution_count": 38,
   "metadata": {},
   "outputs": [
    {
     "data": {
      "text/plain": [
       "sex     alone\n",
       "female  0        112\n",
       "        1         65\n",
       "male    0        107\n",
       "        1        215\n",
       "Name: survived, dtype: int64"
      ]
     },
     "execution_count": 38,
     "metadata": {},
     "output_type": "execute_result"
    }
   ],
   "source": [
    "train_df.groupby(['sex', 'alone'])['survived'].count()"
   ]
  },
  {
   "cell_type": "code",
   "execution_count": 40,
   "metadata": {},
   "outputs": [],
   "source": [
    "df_family = train_df[train_df['alone']==0]"
   ]
  },
  {
   "cell_type": "code",
   "execution_count": null,
   "metadata": {},
   "outputs": [],
   "source": []
  },
  {
   "cell_type": "code",
   "execution_count": 41,
   "metadata": {},
   "outputs": [
    {
     "data": {
      "image/png": "[encoded data removed]",
      "text/plain": [
       "<Figure size 1152x360 with 3 Axes>"
      ]
     },
     "metadata": {
      "needs_background": "light"
     },
     "output_type": "display_data"
    }
   ],
   "source": [
    "features = ['sex', 'class', 'embarked']\n",
    "\n",
    "_, ax = plt.subplots(nrows=1, ncols=3, figsize=(16,5))\n",
    "\n",
    "survival_rate = df_family.survived.mean()\n",
    "\n",
    "for i, feature in enumerate(features):\n",
    "    sns.barplot(feature, 'survived', data=df_family, ax=ax[i], alpha=.5)\n",
    "    ax[i].set_ylabel('Survival Rate')\n",
    "    ax[i].axhline(survival_rate, ls='--', color='grey')"
   ]
  },
  {
   "cell_type": "code",
   "execution_count": 56,
   "metadata": {},
   "outputs": [
    {
     "data": {
      "text/html": [
       "<style  type=\"text/css\" >\n",
       "    #T_7fa671f0_523f_11e9_9ef3_acde48001122row0_col0 {\n",
       "            background-color:  #99eb85;\n",
       "        }    #T_7fa671f0_523f_11e9_9ef3_acde48001122row0_col1 {\n",
       "            background-color:  #25d36d;\n",
       "        }    #T_7fa671f0_523f_11e9_9ef3_acde48001122row0_col2 {\n",
       "            background-color:  #333399;\n",
       "        }    #T_7fa671f0_523f_11e9_9ef3_acde48001122row0_col3 {\n",
       "            background-color:  #166ed4;\n",
       "        }    #T_7fa671f0_523f_11e9_9ef3_acde48001122row1_col0 {\n",
       "            background-color:  #333399;\n",
       "        }    #T_7fa671f0_523f_11e9_9ef3_acde48001122row1_col1 {\n",
       "            background-color:  #333399;\n",
       "        }    #T_7fa671f0_523f_11e9_9ef3_acde48001122row1_col2 {\n",
       "            background-color:  #2848ae;\n",
       "        }    #T_7fa671f0_523f_11e9_9ef3_acde48001122row1_col3 {\n",
       "            background-color:  #333399;\n",
       "        }    #T_7fa671f0_523f_11e9_9ef3_acde48001122row2_col0 {\n",
       "            background-color:  #00b2b2;\n",
       "        }    #T_7fa671f0_523f_11e9_9ef3_acde48001122row2_col1 {\n",
       "            background-color:  #92735e;\n",
       "        }    #T_7fa671f0_523f_11e9_9ef3_acde48001122row2_col2 {\n",
       "            background-color:  #00aacb;\n",
       "        }    #T_7fa671f0_523f_11e9_9ef3_acde48001122row2_col3 {\n",
       "            background-color:  #00aebf;\n",
       "        }    #T_7fa671f0_523f_11e9_9ef3_acde48001122row3_col0 {\n",
       "            background-color:  #ffffff;\n",
       "        }    #T_7fa671f0_523f_11e9_9ef3_acde48001122row3_col1 {\n",
       "            background-color:  #ffffff;\n",
       "        }    #T_7fa671f0_523f_11e9_9ef3_acde48001122row3_col2 {\n",
       "            background-color:  #ffffff;\n",
       "        }    #T_7fa671f0_523f_11e9_9ef3_acde48001122row3_col3 {\n",
       "            background-color:  #ffffff;\n",
       "        }</style>  \n",
       "<table id=\"T_7fa671f0_523f_11e9_9ef3_acde48001122\" > \n",
       "<thead>    <tr> \n",
       "        <th class=\"index_name level0\" >embarked</th> \n",
       "        <th class=\"col_heading level0 col0\" >C</th> \n",
       "        <th class=\"col_heading level0 col1\" >Q</th> \n",
       "        <th class=\"col_heading level0 col2\" >S</th> \n",
       "        <th class=\"col_heading level0 col3\" >All</th> \n",
       "    </tr>    <tr> \n",
       "        <th class=\"index_name level0\" >class</th> \n",
       "        <th class=\"blank\" ></th> \n",
       "        <th class=\"blank\" ></th> \n",
       "        <th class=\"blank\" ></th> \n",
       "        <th class=\"blank\" ></th> \n",
       "    </tr></thead> \n",
       "<tbody>    <tr> \n",
       "        <th id=\"T_7fa671f0_523f_11e9_9ef3_acde48001122level0_row0\" class=\"row_heading level0 row0\" >First</th> \n",
       "        <td id=\"T_7fa671f0_523f_11e9_9ef3_acde48001122row0_col0\" class=\"data row0 col0\" >24</td> \n",
       "        <td id=\"T_7fa671f0_523f_11e9_9ef3_acde48001122row0_col1\" class=\"data row0 col1\" >2</td> \n",
       "        <td id=\"T_7fa671f0_523f_11e9_9ef3_acde48001122row0_col2\" class=\"data row0 col2\" >46</td> \n",
       "        <td id=\"T_7fa671f0_523f_11e9_9ef3_acde48001122row0_col3\" class=\"data row0 col3\" >72</td> \n",
       "    </tr>    <tr> \n",
       "        <th id=\"T_7fa671f0_523f_11e9_9ef3_acde48001122level0_row1\" class=\"row_heading level0 row1\" >Second</th> \n",
       "        <td id=\"T_7fa671f0_523f_11e9_9ef3_acde48001122row1_col0\" class=\"data row1 col0\" >8</td> \n",
       "        <td id=\"T_7fa671f0_523f_11e9_9ef3_acde48001122row1_col1\" class=\"data row1 col1\" >0</td> \n",
       "        <td id=\"T_7fa671f0_523f_11e9_9ef3_acde48001122row1_col2\" class=\"data row1 col2\" >50</td> \n",
       "        <td id=\"T_7fa671f0_523f_11e9_9ef3_acde48001122row1_col3\" class=\"data row1 col3\" >58</td> \n",
       "    </tr>    <tr> \n",
       "        <th id=\"T_7fa671f0_523f_11e9_9ef3_acde48001122level0_row2\" class=\"row_heading level0 row2\" >Third</th> \n",
       "        <td id=\"T_7fa671f0_523f_11e9_9ef3_acde48001122row2_col0\" class=\"data row2 col0\" >16</td> \n",
       "        <td id=\"T_7fa671f0_523f_11e9_9ef3_acde48001122row2_col1\" class=\"data row2 col1\" >5</td> \n",
       "        <td id=\"T_7fa671f0_523f_11e9_9ef3_acde48001122row2_col2\" class=\"data row2 col2\" >68</td> \n",
       "        <td id=\"T_7fa671f0_523f_11e9_9ef3_acde48001122row2_col3\" class=\"data row2 col3\" >89</td> \n",
       "    </tr>    <tr> \n",
       "        <th id=\"T_7fa671f0_523f_11e9_9ef3_acde48001122level0_row3\" class=\"row_heading level0 row3\" >All</th> \n",
       "        <td id=\"T_7fa671f0_523f_11e9_9ef3_acde48001122row3_col0\" class=\"data row3 col0\" >48</td> \n",
       "        <td id=\"T_7fa671f0_523f_11e9_9ef3_acde48001122row3_col1\" class=\"data row3 col1\" >7</td> \n",
       "        <td id=\"T_7fa671f0_523f_11e9_9ef3_acde48001122row3_col2\" class=\"data row3 col2\" >164</td> \n",
       "        <td id=\"T_7fa671f0_523f_11e9_9ef3_acde48001122row3_col3\" class=\"data row3 col3\" >219</td> \n",
       "    </tr></tbody> \n",
       "</table> "
      ],
      "text/plain": [
       "<pandas.io.formats.style.Styler at 0x1a221e9fd0>"
      ]
     },
     "execution_count": 56,
     "metadata": {},
     "output_type": "execute_result"
    }
   ],
   "source": [
    "pd.crosstab(df_family['class'], df_family.embarked, margins=True).style.background_gradient(cmap='terrain')"
   ]
  },
  {
   "cell_type": "code",
   "execution_count": null,
   "metadata": {},
   "outputs": [],
   "source": []
  }
 ],
 "metadata": {
  "kernelspec": {
   "display_name": "Python 3",
   "language": "python",
   "name": "python3"
  },
  "language_info": {
   "codemirror_mode": {
    "name": "ipython",
    "version": 3
   },
   "file_extension": ".py",
   "mimetype": "text/x-python",
   "name": "python",
   "nbconvert_exporter": "python",
   "pygments_lexer": "ipython3",
   "version": "3.7.1"
  }
 },
 "nbformat": 4,
 "nbformat_minor": 2
}
