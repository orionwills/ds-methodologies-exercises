{
 "cells": [
  {
   "cell_type": "code",
   "execution_count": 2,
   "metadata": {},
   "outputs": [],
   "source": [
    "from acquire import *\n",
    "import pandas as pd\n",
    "from prepare import *"
   ]
  },
  {
   "cell_type": "code",
   "execution_count": 3,
   "metadata": {},
   "outputs": [],
   "source": [
    "df = pd.read_csv('items.csv')"
   ]
  },
  {
   "cell_type": "code",
   "execution_count": 4,
   "metadata": {},
   "outputs": [],
   "source": [
    "df2 = pd.read_csv('sales.csv')"
   ]
  },
  {
   "cell_type": "code",
   "execution_count": 5,
   "metadata": {},
   "outputs": [],
   "source": [
    "df3 = pd.read_csv('stores.csv')"
   ]
  },
  {
   "cell_type": "code",
   "execution_count": 28,
   "metadata": {},
   "outputs": [
    {
     "data": {
      "text/html": [
       "<div>\n",
       "<style scoped>\n",
       "    .dataframe tbody tr th:only-of-type {\n",
       "        vertical-align: middle;\n",
       "    }\n",
       "\n",
       "    .dataframe tbody tr th {\n",
       "        vertical-align: top;\n",
       "    }\n",
       "\n",
       "    .dataframe thead th {\n",
       "        text-align: right;\n",
       "    }\n",
       "</style>\n",
       "<table border=\"1\" class=\"dataframe\">\n",
       "  <thead>\n",
       "    <tr style=\"text-align: right;\">\n",
       "      <th></th>\n",
       "      <th>store_address</th>\n",
       "      <th>store_city</th>\n",
       "      <th>store_id</th>\n",
       "      <th>store_state</th>\n",
       "      <th>store_zipcode</th>\n",
       "    </tr>\n",
       "  </thead>\n",
       "  <tbody>\n",
       "    <tr>\n",
       "      <th>0</th>\n",
       "      <td>12125 Alamo Ranch Pkwy</td>\n",
       "      <td>San Antonio</td>\n",
       "      <td>1</td>\n",
       "      <td>TX</td>\n",
       "      <td>78253</td>\n",
       "    </tr>\n",
       "    <tr>\n",
       "      <th>1</th>\n",
       "      <td>9255 FM 471 West</td>\n",
       "      <td>San Antonio</td>\n",
       "      <td>2</td>\n",
       "      <td>TX</td>\n",
       "      <td>78251</td>\n",
       "    </tr>\n",
       "    <tr>\n",
       "      <th>2</th>\n",
       "      <td>2118 Fredericksburg Rdj</td>\n",
       "      <td>San Antonio</td>\n",
       "      <td>3</td>\n",
       "      <td>TX</td>\n",
       "      <td>78201</td>\n",
       "    </tr>\n",
       "    <tr>\n",
       "      <th>3</th>\n",
       "      <td>516 S Flores St</td>\n",
       "      <td>San Antonio</td>\n",
       "      <td>4</td>\n",
       "      <td>TX</td>\n",
       "      <td>78204</td>\n",
       "    </tr>\n",
       "    <tr>\n",
       "      <th>4</th>\n",
       "      <td>1520 Austin Hwy</td>\n",
       "      <td>San Antonio</td>\n",
       "      <td>5</td>\n",
       "      <td>TX</td>\n",
       "      <td>78218</td>\n",
       "    </tr>\n",
       "    <tr>\n",
       "      <th>5</th>\n",
       "      <td>1015 S WW White Rd</td>\n",
       "      <td>San Antonio</td>\n",
       "      <td>6</td>\n",
       "      <td>TX</td>\n",
       "      <td>78220</td>\n",
       "    </tr>\n",
       "    <tr>\n",
       "      <th>6</th>\n",
       "      <td>12018 Perrin Beitel Rd</td>\n",
       "      <td>San Antonio</td>\n",
       "      <td>7</td>\n",
       "      <td>TX</td>\n",
       "      <td>78217</td>\n",
       "    </tr>\n",
       "    <tr>\n",
       "      <th>7</th>\n",
       "      <td>15000 San Pedro Ave</td>\n",
       "      <td>San Antonio</td>\n",
       "      <td>8</td>\n",
       "      <td>TX</td>\n",
       "      <td>78232</td>\n",
       "    </tr>\n",
       "    <tr>\n",
       "      <th>8</th>\n",
       "      <td>735 SW Military Dr</td>\n",
       "      <td>San Antonio</td>\n",
       "      <td>9</td>\n",
       "      <td>TX</td>\n",
       "      <td>78221</td>\n",
       "    </tr>\n",
       "    <tr>\n",
       "      <th>9</th>\n",
       "      <td>8503 NW Military Hwy</td>\n",
       "      <td>San Antonio</td>\n",
       "      <td>10</td>\n",
       "      <td>TX</td>\n",
       "      <td>78231</td>\n",
       "    </tr>\n",
       "  </tbody>\n",
       "</table>\n",
       "</div>"
      ],
      "text/plain": [
       "             store_address   store_city  store_id store_state store_zipcode\n",
       "0   12125 Alamo Ranch Pkwy  San Antonio         1          TX         78253\n",
       "1         9255 FM 471 West  San Antonio         2          TX         78251\n",
       "2  2118 Fredericksburg Rdj  San Antonio         3          TX         78201\n",
       "3          516 S Flores St  San Antonio         4          TX         78204\n",
       "4          1520 Austin Hwy  San Antonio         5          TX         78218\n",
       "5       1015 S WW White Rd  San Antonio         6          TX         78220\n",
       "6   12018 Perrin Beitel Rd  San Antonio         7          TX         78217\n",
       "7      15000 San Pedro Ave  San Antonio         8          TX         78232\n",
       "8       735 SW Military Dr  San Antonio         9          TX         78221\n",
       "9     8503 NW Military Hwy  San Antonio        10          TX         78231"
      ]
     },
     "execution_count": 28,
     "metadata": {},
     "output_type": "execute_result"
    }
   ],
   "source": [
    "get_sales('sales.csv')\n",
    "get_items('items.csv')\n",
    "get_stores('stores.csv')"
   ]
  },
  {
   "cell_type": "code",
   "execution_count": 6,
   "metadata": {},
   "outputs": [
    {
     "data": {
      "text/plain": [
       "(913000, 11)"
      ]
     },
     "execution_count": 6,
     "metadata": {},
     "output_type": "execute_result"
    }
   ],
   "source": [
    "df = merge_dfs(df, df2, 'left', 'item_id', 'item')\n",
    "df.shape"
   ]
  },
  {
   "cell_type": "code",
   "execution_count": 7,
   "metadata": {},
   "outputs": [
    {
     "data": {
      "text/plain": [
       "(913000, 16)"
      ]
     },
     "execution_count": 7,
     "metadata": {},
     "output_type": "execute_result"
    }
   ],
   "source": [
    "df = merge_dfs(df, df3, 'left', 'store', 'store_id')\n",
    "df.shape"
   ]
  },
  {
   "cell_type": "code",
   "execution_count": 8,
   "metadata": {},
   "outputs": [],
   "source": [
    "df = clean_up_columns(df)"
   ]
  },
  {
   "cell_type": "code",
   "execution_count": 9,
   "metadata": {},
   "outputs": [
    {
     "data": {
      "text/plain": [
       "(913000, 14)"
      ]
     },
     "execution_count": 9,
     "metadata": {},
     "output_type": "execute_result"
    }
   ],
   "source": [
    "df.shape"
   ]
  },
  {
   "cell_type": "code",
   "execution_count": 10,
   "metadata": {},
   "outputs": [],
   "source": [
    "df['sales_total'] = df.sale_amount * df.item_price"
   ]
  },
  {
   "cell_type": "code",
   "execution_count": 17,
   "metadata": {},
   "outputs": [
    {
     "data": {
      "text/html": [
       "<div>\n",
       "<style scoped>\n",
       "    .dataframe tbody tr th:only-of-type {\n",
       "        vertical-align: middle;\n",
       "    }\n",
       "\n",
       "    .dataframe tbody tr th {\n",
       "        vertical-align: top;\n",
       "    }\n",
       "\n",
       "    .dataframe thead th {\n",
       "        text-align: right;\n",
       "    }\n",
       "</style>\n",
       "<table border=\"1\" class=\"dataframe\">\n",
       "  <thead>\n",
       "    <tr style=\"text-align: right;\">\n",
       "      <th></th>\n",
       "      <th>item_brand</th>\n",
       "      <th>item_id</th>\n",
       "      <th>item_name</th>\n",
       "      <th>item_price</th>\n",
       "      <th>item_upc12</th>\n",
       "      <th>item_upc14</th>\n",
       "      <th>sale_amount</th>\n",
       "      <th>sale_date</th>\n",
       "      <th>sale_id</th>\n",
       "      <th>store_address</th>\n",
       "      <th>store_city</th>\n",
       "      <th>store_id</th>\n",
       "      <th>store_state</th>\n",
       "      <th>store_zipcode</th>\n",
       "      <th>sales_total</th>\n",
       "    </tr>\n",
       "  </thead>\n",
       "  <tbody>\n",
       "    <tr>\n",
       "      <th>0</th>\n",
       "      <td>Riceland</td>\n",
       "      <td>1</td>\n",
       "      <td>Riceland American Jazmine Rice</td>\n",
       "      <td>0.84</td>\n",
       "      <td>35200264013</td>\n",
       "      <td>35200264013</td>\n",
       "      <td>13.0</td>\n",
       "      <td>2013-01-01</td>\n",
       "      <td>1</td>\n",
       "      <td>12125 Alamo Ranch Pkwy</td>\n",
       "      <td>San Antonio</td>\n",
       "      <td>1</td>\n",
       "      <td>TX</td>\n",
       "      <td>78253</td>\n",
       "      <td>10.92</td>\n",
       "    </tr>\n",
       "    <tr>\n",
       "      <th>1</th>\n",
       "      <td>Riceland</td>\n",
       "      <td>1</td>\n",
       "      <td>Riceland American Jazmine Rice</td>\n",
       "      <td>0.84</td>\n",
       "      <td>35200264013</td>\n",
       "      <td>35200264013</td>\n",
       "      <td>11.0</td>\n",
       "      <td>2013-01-02</td>\n",
       "      <td>2</td>\n",
       "      <td>12125 Alamo Ranch Pkwy</td>\n",
       "      <td>San Antonio</td>\n",
       "      <td>1</td>\n",
       "      <td>TX</td>\n",
       "      <td>78253</td>\n",
       "      <td>9.24</td>\n",
       "    </tr>\n",
       "    <tr>\n",
       "      <th>2</th>\n",
       "      <td>Riceland</td>\n",
       "      <td>1</td>\n",
       "      <td>Riceland American Jazmine Rice</td>\n",
       "      <td>0.84</td>\n",
       "      <td>35200264013</td>\n",
       "      <td>35200264013</td>\n",
       "      <td>14.0</td>\n",
       "      <td>2013-01-03</td>\n",
       "      <td>3</td>\n",
       "      <td>12125 Alamo Ranch Pkwy</td>\n",
       "      <td>San Antonio</td>\n",
       "      <td>1</td>\n",
       "      <td>TX</td>\n",
       "      <td>78253</td>\n",
       "      <td>11.76</td>\n",
       "    </tr>\n",
       "    <tr>\n",
       "      <th>3</th>\n",
       "      <td>Riceland</td>\n",
       "      <td>1</td>\n",
       "      <td>Riceland American Jazmine Rice</td>\n",
       "      <td>0.84</td>\n",
       "      <td>35200264013</td>\n",
       "      <td>35200264013</td>\n",
       "      <td>13.0</td>\n",
       "      <td>2013-01-04</td>\n",
       "      <td>4</td>\n",
       "      <td>12125 Alamo Ranch Pkwy</td>\n",
       "      <td>San Antonio</td>\n",
       "      <td>1</td>\n",
       "      <td>TX</td>\n",
       "      <td>78253</td>\n",
       "      <td>10.92</td>\n",
       "    </tr>\n",
       "    <tr>\n",
       "      <th>4</th>\n",
       "      <td>Riceland</td>\n",
       "      <td>1</td>\n",
       "      <td>Riceland American Jazmine Rice</td>\n",
       "      <td>0.84</td>\n",
       "      <td>35200264013</td>\n",
       "      <td>35200264013</td>\n",
       "      <td>10.0</td>\n",
       "      <td>2013-01-05</td>\n",
       "      <td>5</td>\n",
       "      <td>12125 Alamo Ranch Pkwy</td>\n",
       "      <td>San Antonio</td>\n",
       "      <td>1</td>\n",
       "      <td>TX</td>\n",
       "      <td>78253</td>\n",
       "      <td>8.40</td>\n",
       "    </tr>\n",
       "  </tbody>\n",
       "</table>\n",
       "</div>"
      ],
      "text/plain": [
       "  item_brand  item_id                       item_name  item_price  \\\n",
       "0   Riceland        1  Riceland American Jazmine Rice        0.84   \n",
       "1   Riceland        1  Riceland American Jazmine Rice        0.84   \n",
       "2   Riceland        1  Riceland American Jazmine Rice        0.84   \n",
       "3   Riceland        1  Riceland American Jazmine Rice        0.84   \n",
       "4   Riceland        1  Riceland American Jazmine Rice        0.84   \n",
       "\n",
       "    item_upc12   item_upc14  sale_amount  sale_date  sale_id  \\\n",
       "0  35200264013  35200264013         13.0 2013-01-01        1   \n",
       "1  35200264013  35200264013         11.0 2013-01-02        2   \n",
       "2  35200264013  35200264013         14.0 2013-01-03        3   \n",
       "3  35200264013  35200264013         13.0 2013-01-04        4   \n",
       "4  35200264013  35200264013         10.0 2013-01-05        5   \n",
       "\n",
       "            store_address   store_city  store_id store_state  store_zipcode  \\\n",
       "0  12125 Alamo Ranch Pkwy  San Antonio         1          TX          78253   \n",
       "1  12125 Alamo Ranch Pkwy  San Antonio         1          TX          78253   \n",
       "2  12125 Alamo Ranch Pkwy  San Antonio         1          TX          78253   \n",
       "3  12125 Alamo Ranch Pkwy  San Antonio         1          TX          78253   \n",
       "4  12125 Alamo Ranch Pkwy  San Antonio         1          TX          78253   \n",
       "\n",
       "   sales_total  \n",
       "0        10.92  \n",
       "1         9.24  \n",
       "2        11.76  \n",
       "3        10.92  \n",
       "4         8.40  "
      ]
     },
     "execution_count": 17,
     "metadata": {},
     "output_type": "execute_result"
    }
   ],
   "source": [
    "df.head()"
   ]
  },
  {
   "cell_type": "code",
   "execution_count": 16,
   "metadata": {},
   "outputs": [
    {
     "name": "stdout",
     "output_type": "stream",
     "text": [
      "<class 'pandas.core.frame.DataFrame'>\n",
      "Int64Index: 913000 entries, 0 to 912999\n",
      "Data columns (total 15 columns):\n",
      "item_brand       913000 non-null object\n",
      "item_id          913000 non-null int64\n",
      "item_name        913000 non-null object\n",
      "item_price       913000 non-null float64\n",
      "item_upc12       913000 non-null int64\n",
      "item_upc14       913000 non-null int64\n",
      "sale_amount      913000 non-null float64\n",
      "sale_date        913000 non-null datetime64[ns]\n",
      "sale_id          913000 non-null int64\n",
      "store_address    913000 non-null object\n",
      "store_city       913000 non-null object\n",
      "store_id         913000 non-null int64\n",
      "store_state      913000 non-null object\n",
      "store_zipcode    913000 non-null int64\n",
      "sales_total      913000 non-null float64\n",
      "dtypes: datetime64[ns](1), float64(3), int64(6), object(5)\n",
      "memory usage: 111.5+ MB\n"
     ]
    }
   ],
   "source": [
    "df.info()"
   ]
  },
  {
   "cell_type": "code",
   "execution_count": 15,
   "metadata": {
    "scrolled": true
   },
   "outputs": [
    {
     "name": "stdout",
     "output_type": "stream",
     "text": [
      "Converting 0         Tue, 01 Jan 2013 00:00:00 GMT\n",
      "1         Wed, 02 Jan 2013 00:00:00 GMT\n",
      "2         Thu, 03 Jan 2013 00:00:00 GMT\n",
      "3         Fri, 04 Jan 2013 00:00:00 GMT\n",
      "4         Sat, 05 Jan 2013 00:00:00 GMT\n",
      "5         Sun, 06 Jan 2013 00:00:00 GMT\n",
      "6         Mon, 07 Jan 2013 00:00:00 GMT\n",
      "7         Tue, 08 Jan 2013 00:00:00 GMT\n",
      "8         Wed, 09 Jan 2013 00:00:00 GMT\n",
      "9         Thu, 10 Jan 2013 00:00:00 GMT\n",
      "10        Fri, 11 Jan 2013 00:00:00 GMT\n",
      "11        Sat, 12 Jan 2013 00:00:00 GMT\n",
      "12        Sun, 13 Jan 2013 00:00:00 GMT\n",
      "13        Mon, 14 Jan 2013 00:00:00 GMT\n",
      "14        Tue, 15 Jan 2013 00:00:00 GMT\n",
      "15        Wed, 16 Jan 2013 00:00:00 GMT\n",
      "16        Thu, 17 Jan 2013 00:00:00 GMT\n",
      "17        Fri, 18 Jan 2013 00:00:00 GMT\n",
      "18        Sat, 19 Jan 2013 00:00:00 GMT\n",
      "19        Sun, 20 Jan 2013 00:00:00 GMT\n",
      "20        Mon, 21 Jan 2013 00:00:00 GMT\n",
      "21        Tue, 22 Jan 2013 00:00:00 GMT\n",
      "22        Wed, 23 Jan 2013 00:00:00 GMT\n",
      "23        Thu, 24 Jan 2013 00:00:00 GMT\n",
      "24        Fri, 25 Jan 2013 00:00:00 GMT\n",
      "25        Sat, 26 Jan 2013 00:00:00 GMT\n",
      "26        Sun, 27 Jan 2013 00:00:00 GMT\n",
      "27        Mon, 28 Jan 2013 00:00:00 GMT\n",
      "28        Tue, 29 Jan 2013 00:00:00 GMT\n",
      "29        Wed, 30 Jan 2013 00:00:00 GMT\n",
      "                      ...              \n",
      "912970    Sat, 02 Dec 2017 00:00:00 GMT\n",
      "912971    Sun, 03 Dec 2017 00:00:00 GMT\n",
      "912972    Mon, 04 Dec 2017 00:00:00 GMT\n",
      "912973    Tue, 05 Dec 2017 00:00:00 GMT\n",
      "912974    Wed, 06 Dec 2017 00:00:00 GMT\n",
      "912975    Thu, 07 Dec 2017 00:00:00 GMT\n",
      "912976    Fri, 08 Dec 2017 00:00:00 GMT\n",
      "912977    Sat, 09 Dec 2017 00:00:00 GMT\n",
      "912978    Sun, 10 Dec 2017 00:00:00 GMT\n",
      "912979    Mon, 11 Dec 2017 00:00:00 GMT\n",
      "912980    Tue, 12 Dec 2017 00:00:00 GMT\n",
      "912981    Wed, 13 Dec 2017 00:00:00 GMT\n",
      "912982    Thu, 14 Dec 2017 00:00:00 GMT\n",
      "912983    Fri, 15 Dec 2017 00:00:00 GMT\n",
      "912984    Sat, 16 Dec 2017 00:00:00 GMT\n",
      "912985    Sun, 17 Dec 2017 00:00:00 GMT\n",
      "912986    Mon, 18 Dec 2017 00:00:00 GMT\n",
      "912987    Tue, 19 Dec 2017 00:00:00 GMT\n",
      "912988    Wed, 20 Dec 2017 00:00:00 GMT\n",
      "912989    Thu, 21 Dec 2017 00:00:00 GMT\n",
      "912990    Fri, 22 Dec 2017 00:00:00 GMT\n",
      "912991    Sat, 23 Dec 2017 00:00:00 GMT\n",
      "912992    Sun, 24 Dec 2017 00:00:00 GMT\n",
      "912993    Mon, 25 Dec 2017 00:00:00 GMT\n",
      "912994    Tue, 26 Dec 2017 00:00:00 GMT\n",
      "912995    Wed, 27 Dec 2017 00:00:00 GMT\n",
      "912996    Thu, 28 Dec 2017 00:00:00 GMT\n",
      "912997    Fri, 29 Dec 2017 00:00:00 GMT\n",
      "912998    Sat, 30 Dec 2017 00:00:00 GMT\n",
      "912999    Sun, 31 Dec 2017 00:00:00 GMT\n",
      "Name: sale_date, Length: 913000, dtype: object from <class 'pandas.core.series.Series'> to datetime\n"
     ]
    }
   ],
   "source": [
    "df['sale_date'] = convert_to_datetime(df.sale_date)"
   ]
  },
  {
   "cell_type": "code",
   "execution_count": 1,
   "metadata": {},
   "outputs": [
    {
     "name": "stdout",
     "output_type": "stream",
     "text": [
      "Reset css and font defaults in:\r\n",
      "/Users/orion/.jupyter/custom &\r\n",
      "/Users/orion/Library/Jupyter/nbextensions\r\n"
     ]
    }
   ],
   "source": [
    "!jt -r"
   ]
  },
  {
   "cell_type": "code",
   "execution_count": null,
   "metadata": {},
   "outputs": [],
   "source": []
  }
 ],
 "metadata": {
  "kernelspec": {
   "display_name": "Python 3",
   "language": "python",
   "name": "python3"
  },
  "language_info": {
   "codemirror_mode": {
    "name": "ipython",
    "version": 3
   },
   "file_extension": ".py",
   "mimetype": "text/x-python",
   "name": "python",
   "nbconvert_exporter": "python",
   "pygments_lexer": "ipython3",
   "version": "3.7.1"
  }
 },
 "nbformat": 4,
 "nbformat_minor": 2
}
